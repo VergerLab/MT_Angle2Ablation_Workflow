{
 "cells": [
  {
   "cell_type": "markdown",
   "metadata": {},
   "source": [
    "# **Statistics for Angle to ablation timelapse**"
   ]
  },
  {
   "cell_type": "markdown",
   "metadata": {},
   "source": [
    "*(A2A_Tmlps_Stats) by Stephane Verger*\n",
    "\n",
    "This notebook was made to propose a simple and reproducible way to plot and analyze the data from the \"MT Angle2Ablation workflow\".\n",
    "\n",
    "It can be used with no prior knowledge of python programming. However it can be useful to acquire a little bit of background on how to use this tool. We recommand the very useful lecture series on BioImage Analysis from Robert Haase (https://www.youtube.com/playlist?list=PL5ESQNfM5lc7SAMstEu082ivW4BDMvd0U), in particular the lectures 9 to 11 about the use of python for data analysis and hypothesis testing."
   ]
  },
  {
   "cell_type": "markdown",
   "metadata": {},
   "source": [
    "## **How to run the code?**\n",
    "\n",
    "**To run a cell containing code simply select it and hit enter+shift. Run each cell one by one while carefully following the instructions between each cell**\n",
    "\n",
    "Briefly, there are 4 steps:\n",
    "1. Load the required packages and functions.\n",
    "2. Upload the data.\n",
    "3. Generate the table and graph output with interactive widgets.\n",
    "4. Save the desired output."
   ]
  },
  {
   "cell_type": "markdown",
   "metadata": {},
   "source": [
    "**1. Loading libraries**\n",
    "\n",
    "Here, simply select the cell below, hit enter+shift to run the cell (load the packages) and continue to the next step."
   ]
  },
  {
   "cell_type": "code",
   "execution_count": null,
   "metadata": {},
   "outputs": [],
   "source": [
    "import io\n",
    "import pandas as pd\n",
    "import numpy as np\n",
    "import matplotlib.pyplot as plt\n",
    "import seaborn as sns\n",
    "import ipywidgets as widgets\n",
    "from ipywidgets import interact, fixed\n",
    "from IPython.display import display\n",
    "from ipyfilechooser import FileChooser"
   ]
  },
  {
   "cell_type": "markdown",
   "metadata": {},
   "source": [
    "**2. Data upload**\n",
    "1. Run the cell below.\n",
    "2. Then, click on the \"Upload\" button and select the file to be analyzed.\n",
    "3. Load the data to the notebook, by **running either** the cell called \"#For Binder\" (if you are running the notebook on binder) or \"#For local install\" if you are running it on you machine."
   ]
  },
  {
   "cell_type": "code",
   "execution_count": null,
   "metadata": {},
   "outputs": [],
   "source": [
    "#Widget to upload data\n",
    "uploader = widgets.FileUpload(\n",
    "    accept='.txt',\n",
    "    multiple=False\n",
    ")\n",
    "display(uploader)"
   ]
  },
  {
   "cell_type": "markdown",
   "metadata": {},
   "source": [
    "For binder"
   ]
  },
  {
   "cell_type": "code",
   "execution_count": null,
   "metadata": {},
   "outputs": [],
   "source": [
    "#For binder\n",
    "#Data upload and read\n",
    "uploaded_file = list(uploader.value)[0]\n",
    "all_data = pd.read_csv(io.BytesIO(uploaded_file['content']), sep = \"\\t\")"
   ]
  },
  {
   "cell_type": "markdown",
   "metadata": {},
   "source": [
    "For local install"
   ]
  },
  {
   "cell_type": "code",
   "execution_count": null,
   "metadata": {},
   "outputs": [],
   "source": [
    "#For local install\n",
    "#Data upload and read\n",
    "uploaded_file = list(uploader.value.values())[0]\n",
    "all_data = pd.read_csv(io.BytesIO(uploaded_file['content']), sep = \"\\t\")"
   ]
  },
  {
   "cell_type": "markdown",
   "metadata": {},
   "source": [
    "**3. Graphs and tables**\n",
    "1. Run the cell below.\n",
    "2. Then scroll down and to see the output and widget interaction.\n",
    "\n",
    "You can select which genotype data are displayed (Click + shift or ctrl to select multiple), whether average per genotype or samples, or individual cells are displayed, and whether to show the output for the angle or anisotropy values."
   ]
  },
  {
   "cell_type": "code",
   "execution_count": null,
   "metadata": {
    "scrolled": false
   },
   "outputs": [],
   "source": [
    "\n",
    "#Message\n",
    "print('Warning: It is not possible to select \"show individual samples\" = No and \"Show induvidual cells\" = Yes at the same time.')\n",
    "print('Currently the table generation only supports the selection of multiple genotypes when \"show individual samples\" and \"cells\" = No.')\n",
    "print('Alternatively the \"individual sample\" data table can be shown if only one genotype is selected at a time.')\n",
    "print('\\nClick + shift or ctrl or command to select multiple genotypes.')\n",
    "print('To change and fix the x axis limit of the plot to a defined value, select a value different from zero in the x axis limit widget. Make sure that both up and low values are set in that case.') \n",
    "\n",
    "#Widgets\n",
    "#Get groups of genotypes/conditions\n",
    "GenoGroup = all_data.groupby(['Genotype/condition'])\n",
    "GenoGroupKeys = list(GenoGroup.groups.keys())\n",
    "#style for menus\n",
    "style = {'description_width': 'initial'}\n",
    "#Widget select multiple menu to choose genotype to plot, toggle to show individual samples, cells and choose between angle and anisotropy\n",
    "SelectGeno= widgets.SelectMultiple(options=GenoGroupKeys, value=[GenoGroupKeys[0]], description='Genotype/condition to plot.', disabled=False, style=style, rows=len(GenoGroupKeys), layout={'width': 'max-content'})\n",
    "ShowSamples = widgets.ToggleButtons(options=[('No', False), ('Yes', 'Genotype/condition')], value=False, description='Show individual samples', button_style='', style=style)\n",
    "ShowCells = widgets.ToggleButtons(options=[('No', False), ('Yes', 'Sample Number')], value=False, description='Show individual cells', button_style='', style=style)\n",
    "ChooseValue = widgets.ToggleButtons(options=[('Angle to ablation', 'Acute absolute angle to ablation'), ('Anisotropy', 'Anisotropy')], value='Acute absolute angle to ablation', description='Value to plot', button_style='', style=style)\n",
    "ChooseXlimUp = widgets.FloatText(value=0, description='X axis limit up', disabled=False, style=style)\n",
    "ChooseXlimLow = widgets.FloatText(value=0, description='X axis limit low', disabled=False, style=style)\n",
    "\n",
    "\n",
    "#Function to define the timelapse graph\n",
    "def datagraph(whichdata, col, row, ydata, XlimUp, XlimLow, save, path):\n",
    "    \n",
    "\n",
    "    #subsets data to be shown in plot\n",
    "    subdata = all_data[all_data['Genotype/condition'].isin(whichdata)]\n",
    "    #Display more or less details from genotype to individual cells\n",
    "    if (ShowSamples.value==False and ShowCells.value==False):\n",
    "        huedata = 'Genotype/condition'\n",
    "        tograph = True\n",
    "        totable = True\n",
    "    elif (ShowSamples.value=='Genotype/condition' and ShowCells.value==False):\n",
    "        huedata = 'Sample Number'\n",
    "        tograph = True\n",
    "        totable = True\n",
    "    elif (ShowSamples.value=='Genotype/condition' and ShowCells.value=='Sample Number'):\n",
    "        huedata = 'CellNumber'\n",
    "        tograph = True\n",
    "        totable = False\n",
    "    elif (ShowSamples.value==False and ShowCells.value=='Sample Number'):\n",
    "        huedata = 'CellNumber'\n",
    "        tograph = False\n",
    "        totable = False\n",
    "    if (len(SelectGeno.value) > 1 and ShowSamples.value=='Genotype/condition'):\n",
    "        totable = False\n",
    "    #plot\n",
    "    if (tograph==True):\n",
    "        fig = sns.relplot(data=subdata, col=col, row=row,  x=\"Timepoint\", y=ydata, hue=huedata, errorbar=('ci', 95), kind=\"line\")\n",
    "        if (XlimLow>0 or XlimUp>0):\n",
    "            fig.set(ylim=(XlimLow, XlimUp))\n",
    "    \n",
    "    #Table\n",
    "    if (totable==True):\n",
    "        #subsets data to be shown in table\n",
    "        SubGenoTimeGroup = subdata.groupby([huedata, 'Timepoint'], as_index=False)\n",
    "        #Aggregate with mean and Bootstraped 95 CI\n",
    "        MeanSGTG = SubGenoTimeGroup[ydata].agg(np.mean).round(3)\n",
    "        BtstrpSGTG = SubGenoTimeGroup[ydata].agg(lambda x: sns.utils.ci(sns.algorithms.bootstrap(x, func=np.mean, n_boot=1000, units=None))[1]-(np.mean(x))).round(3)\n",
    "        #Pivot, merged and display timeseries table\n",
    "        pivMeanSGTG = MeanSGTG.pivot(index=huedata, columns='Timepoint', values=ydata)\n",
    "        pivBtstrpSGTG = BtstrpSGTG.pivot(index=huedata, columns='Timepoint', values=ydata)\n",
    "        Finaltable = pivMeanSGTG.astype('string') + ' +- ' + pivBtstrpSGTG.astype('string')\n",
    "        print('\\n\\n The data displayed in both table and graph is the mean values +- bootstrapped 95% confidence interval')\n",
    "        display(Finaltable) \n",
    "    \n",
    "    #Save table and plot\n",
    "    if (save == True):\n",
    "        if (totable==True):\n",
    "            Finaltable.to_csv(path + '.csv')\n",
    "        if (tograph==True):\n",
    "            plt.savefig(path + '.svg')\n",
    "    \n",
    "#Interact widget\n",
    "DataGraphWidget = widgets.interactive(datagraph, whichdata=SelectGeno, col=ShowSamples, row=ShowCells, ydata=ChooseValue, XlimUp = ChooseXlimUp, XlimLow = ChooseXlimLow, save = fixed(False), path = fixed(False));\n",
    "DataGraphWidget\n"
   ]
  },
  {
   "cell_type": "markdown",
   "metadata": {},
   "source": [
    "**4. Save data and graphs**\n",
    "1. Run the next two cells below.\n",
    "2. Click on the \"Select\" button and select a destination folder as well as an output file name (e.g. GFP-MBD_Angles).\n",
    "Avoid spaces and special characters in the name.\n",
    "3. Validate by clicking \"Select\" again. This should display in green the destination path with file name.\n",
    "4. Finally, run the last cell. This will directly save the table as a .csv file and the graph as a .svg file with the choosen file name in the selected destination folder.\n",
    "\n",
    "Note 1: When running the notebook on binder, the data can only be saved on the temporary binder folder that is created to run the notebook online. In the cell where you choose the path for file saving, navigate to /home/Jovyan/. The data saved in the folder will apprear in the file browser on the left of the notebook on this page. You can double click on it to open it in a new window here, or right click and select download to download it on your computer. \n",
    "\n",
    "Note 2: You can go back and forth between the interactive widgets and display above, and this save step, but you will have to reload the first cell below everytime before saving to get the current status of the table and graphs diplayed, and you may need to change the output file name, before running the last cell to save.\n",
    "\n",
    "Note 3: The .csv file can be opened in any text and spreadsheet editor. The .svg file can be opened and further modified (e.g. to change the time point naming) with any vector graphic editor (e.g. Inkscape or Illustrator). "
   ]
  },
  {
   "cell_type": "code",
   "execution_count": null,
   "metadata": {},
   "outputs": [],
   "source": [
    "#Retrieve selected value from interactive widget\n",
    "whichdata = DataGraphWidget.children[0].value\n",
    "col = DataGraphWidget.children[1].value\n",
    "row = DataGraphWidget.children[2].value\n",
    "ydata = DataGraphWidget.children[3].value\n",
    "XlimUp = DataGraphWidget.children[4].value\n",
    "XlimLow = DataGraphWidget.children[5].value"
   ]
  },
  {
   "cell_type": "code",
   "execution_count": null,
   "metadata": {},
   "outputs": [],
   "source": [
    "#FileChooser\n",
    "starting_directory = '/' \n",
    "chooser = FileChooser(starting_directory)\n",
    "\n",
    "#Display\n",
    "print('Suggested output filename content: ' + str(whichdata) + ', ' + str(ydata))\n",
    "print('On binder, choose file path /home/jovyan/ and dowload you data afterwards from binder.')\n",
    "display(chooser)"
   ]
  },
  {
   "cell_type": "code",
   "execution_count": null,
   "metadata": {},
   "outputs": [],
   "source": [
    "print ('Saved table below as .csv file and graph as .svg file')\n",
    "Path = chooser.selected\n",
    "datagraph(whichdata, col, row, ydata, XlimUp, XlimLow, True, Path)"
   ]
  }
 ],
 "metadata": {
  "kernelspec": {
   "display_name": "Python 3 (ipykernel)",
   "language": "python",
   "name": "python3"
  },
  "language_info": {
   "codemirror_mode": {
    "name": "ipython",
    "version": 3
   },
   "file_extension": ".py",
   "mimetype": "text/x-python",
   "name": "python",
   "nbconvert_exporter": "python",
   "pygments_lexer": "ipython3",
   "version": "3.10.8"
  }
 },
 "nbformat": 4,
 "nbformat_minor": 4
}
