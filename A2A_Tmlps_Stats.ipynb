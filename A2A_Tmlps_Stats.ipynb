{
 "cells": [
  {
   "cell_type": "markdown",
   "metadata": {},
   "source": [
    "# **Statistics for Angle to ablation timelapse**"
   ]
  },
  {
   "cell_type": "code",
   "execution_count": 1,
   "metadata": {},
   "outputs": [],
   "source": [
    "#(A2A_Tmlps_Stats) by Stephane Verger\n",
    "#Add more info..."
   ]
  },
  {
   "cell_type": "markdown",
   "metadata": {},
   "source": [
    "**0. Loading libraries**"
   ]
  },
  {
   "cell_type": "code",
   "execution_count": 1,
   "metadata": {},
   "outputs": [],
   "source": [
    "#import os\n",
    "import io\n",
    "import pandas as pd\n",
    "#import numpy as np\n",
    "#import matplotlib.pyplot as plt\n",
    "import seaborn as sns\n",
    "#from scipy import stats\n",
    "import ipywidgets as widgets\n",
    "from IPython.display import display\n",
    "from ipywidgets import interact#, interact_manual, HBox, Label"
   ]
  },
  {
   "cell_type": "markdown",
   "metadata": {},
   "source": [
    "**1. Data upload (File path or Upuload button)**"
   ]
  },
  {
   "cell_type": "code",
   "execution_count": 2,
   "metadata": {},
   "outputs": [
    {
     "data": {
      "application/vnd.jupyter.widget-view+json": {
       "model_id": "fbf22d1ae51d4450a0fb16bede4c71ec",
       "version_major": 2,
       "version_minor": 0
      },
      "text/plain": [
       "FileUpload(value={}, accept='.txt', description='Upload')"
      ]
     },
     "metadata": {},
     "output_type": "display_data"
    }
   ],
   "source": [
    "#Widget to upload data\n",
    "uploader = widgets.FileUpload(\n",
    "    accept='.txt',\n",
    "    multiple=False\n",
    ")\n",
    "display(uploader)"
   ]
  },
  {
   "cell_type": "markdown",
   "metadata": {},
   "source": [
    "**2. Graph**"
   ]
  },
  {
   "cell_type": "code",
   "execution_count": 3,
   "metadata": {},
   "outputs": [
    {
     "data": {
      "application/vnd.jupyter.widget-view+json": {
       "model_id": "b7b8109f6c3640b7a93813e50c1e9977",
       "version_major": 2,
       "version_minor": 0
      },
      "text/plain": [
       "interactive(children=(SelectMultiple(description='Genotype/condition to plot.', index=(0,), options=('GFP-MBD'…"
      ]
     },
     "metadata": {},
     "output_type": "display_data"
    }
   ],
   "source": [
    "#data upload\n",
    "uploaded_file = list(uploader.value.values())[0]\n",
    "all_data = pd.read_csv(io.BytesIO(uploaded_file['content']), sep = \"\\t\")\n",
    "\n",
    "#Get groups of genotypes/conditions\n",
    "GenoGroup = all_data.groupby(['Genotype/condition'])\n",
    "GenoGroupKeys = list(GenoGroup.groups.keys())\n",
    "\n",
    "#style for menus\n",
    "style = {'description_width': 'initial'}\n",
    "\n",
    "#Widget select multiple menu to choose genotype to plot\n",
    "SelectGeno= widgets.SelectMultiple(\n",
    "    options=GenoGroupKeys,\n",
    "    value=[GenoGroupKeys[0]],\n",
    "    description='Genotype/condition to plot.',\n",
    "    disabled=False,\n",
    "    style=style\n",
    ")\n",
    "\n",
    "#widget toggle to show individual samples\n",
    "ShowSamples = widgets.ToggleButtons(\n",
    "    options=[('No', False), ('Yes', 'Genotype/condition')],\n",
    "    value=False,\n",
    "    description='Show individual samples',\n",
    "    button_style='',\n",
    "    style=style\n",
    ")\n",
    "\n",
    "#widget toggle to show individual cells\n",
    "ShowCells = widgets.ToggleButtons(\n",
    "    options=[('No', False), ('Yes', 'Sample Number')],\n",
    "    value=False,\n",
    "    description='Show individual cells',\n",
    "    button_style='',\n",
    "    style=style\n",
    ")\n",
    "\n",
    "#Widget toggle to choose between angle and anisotropy\n",
    "ChooseValue= widgets.ToggleButtons(\n",
    "    options=[('Angle to ablation', 'Acute absolute angle to ablation'), ('Anisotropy', 'Anisotropy')],\n",
    "    value='Acute absolute angle to ablation',\n",
    "    description='Value to plot',\n",
    "    button_style='',\n",
    "    style=style\n",
    ")\n",
    "\n",
    "#Function to define the timelapse graph\n",
    "def graph(whichdata, col, row, ydata):\n",
    "    \n",
    "    #subsets data to be shown\n",
    "    subdata = all_data[all_data['Genotype/condition'].isin(whichdata)]\n",
    "    #Display more or less details from genotype to individual cells\n",
    "    if (ShowSamples.value==False and ShowCells.value==False):\n",
    "        huedata = 'Genotype/condition'\n",
    "    elif (ShowSamples.value=='Genotype/condition' and ShowCells.value==False):\n",
    "        huedata = 'Sample Number'\n",
    "    elif (ShowSamples.value=='Genotype/condition' and ShowCells.value=='Sample Number'):\n",
    "        huedata = 'CellNumber'\n",
    "    \n",
    "    #plot\n",
    "    sns.relplot(data=subdata, col=col, row=row,  x=\"Time point\", y=ydata, hue=huedata, ci=95, kind=\"line\")\n",
    "\n",
    "#Interact widget\n",
    "widgets.interact(graph, whichdata=SelectGeno, col=ShowSamples, row=ShowCells, ydata=ChooseValue);"
   ]
  },
  {
   "cell_type": "markdown",
   "metadata": {},
   "source": [
    "**3. Stats**"
   ]
  },
  {
   "cell_type": "code",
   "execution_count": null,
   "metadata": {},
   "outputs": [],
   "source": [
    "#To do"
   ]
  },
  {
   "cell_type": "markdown",
   "metadata": {},
   "source": [
    "**4. Save graph svg**"
   ]
  },
  {
   "cell_type": "code",
   "execution_count": null,
   "metadata": {},
   "outputs": [],
   "source": [
    "#To do"
   ]
  },
  {
   "cell_type": "markdown",
   "metadata": {},
   "source": [
    "Drafts"
   ]
  },
  {
   "cell_type": "code",
   "execution_count": null,
   "metadata": {},
   "outputs": [],
   "source": [
    "\"\"\"\n",
    "#Widget button save graph SVG\n",
    "ButtonSaveGraph = widgets.Button(\n",
    "    description='Save graph as .svg',\n",
    "    disabled=False,\n",
    "    button_style='success', # 'success', 'info', 'warning', 'danger' or ''\n",
    "    tooltip='Click me',\n",
    "    icon='' # (FontAwesome names without the `fa-` prefix)\n",
    ")\n",
    "#\n",
    "#display(ButtonSaveGraph)\n",
    "#ButtonSaveGraph.on_click(foo)\n",
    "\n",
    "#Function \"Analyse uploaded file\"\n",
    "def AnalyseFile():\n",
    "    ReadData(uploader)\n",
    "    widgets.interact(graph, ydata=DropValue, huedata=DropSample);\n",
    "    display(ButtonSaveGraph)\n",
    "    #ButtonSaveGraph.on_click(foo)\n",
    "#\n",
    "AnalyseFile()\n",
    "\n",
    "#widgets.interact(graph, ydata=DropValue, huedata=DropSample);\n",
    "#display(ButtonSaveGraph)\n",
    "#ButtonSaveGraph.on_click(foo)\n",
    "\n",
    "#Widget button \"analyse uploaded file\"\n",
    "ButtonAnalyseFile = widgets.Button(\n",
    "    description='Analyse uploaded file',\n",
    "    disabled=False,\n",
    "    button_style='info', # 'success', 'info', 'warning', 'danger' or ''\n",
    "    tooltip='Click me',\n",
    "    icon='floppy-disk' # (FontAwesome names without the `fa-` prefix)\n",
    ")\n",
    "#\n",
    "#display(ButtonAnalyseFile)\n",
    "#ButtonAnalyseFile.on_click(AnalyseFile())\n",
    "\n",
    "#Dummy function...Function to save the current graph as SVG\n",
    "def foo(self):\n",
    "    print('ok')"
   ]
  },
  {
   "cell_type": "code",
   "execution_count": 3,
   "metadata": {},
   "outputs": [],
   "source": [
    "\"\"\" Old\n",
    "#Manual data upload\n",
    "file_path = '/home/stephane/Downloads/All_All_Time-series_Test_Angle2Ablation.txt'\n",
    "all_data = pd.read_csv(file_path, sep = \"\\t\")\n",
    "#display(all_data)\n",
    "\n",
    "#Widget drop down menu to choose between angle and anisotropy\n",
    "DropValue= widgets.Dropdown(\n",
    "    options=[('Angle to ablation', 'Acute absolute angle to ablation'), ('Anisotropy', 'Anisotropy')],\n",
    "    value='Acute absolute angle to ablation',\n",
    "    description='Value to plot',\n",
    ")\n",
    "#\n",
    "#display(DropValue)\n",
    "\n",
    "#Widget drop down menu to choose data to plot\n",
    "DropSample= widgets.Dropdown(\n",
    "    options=[('Genotype/condition'), ('Sample Number'), ('CellNumber')],\n",
    "    value='Genotype/condition',\n",
    "    description='Data to plot',\n",
    ")\n",
    "#\n",
    "#display(DropSample)\n",
    "\n",
    "groups = ('Genotype/condition', 'Sample Number', 'Time point', 'CellNumber')\n",
    "for group in groups:\n",
    "    groupByKeys = all_data.groupby(group)\n",
    "    groupKeys = groupByKeys.groups.keys()\n",
    "    print (group, ': ', groupKeys)\n",
    "    \n",
    "@interact\n",
    "def show_selected_data(column='Genotype/condition', x=GenoGroupKeys):\n",
    "    return all_data.loc[all_data[column] == x]\n",
    "\n",
    "#Sample number\n",
    "SampleGroup = all_data.groupby(['Sample Number'])\n",
    "SampleGroupKeys = list(SampleGroup.groups.keys())\n",
    "#print ('Sample Number: ', SampleGroupKeys)\n",
    "\n",
    "#Cell number\n",
    "CellGroup = all_data.groupby(['CellNumber'])\n",
    "CellGroupKeys = list(CellGroup.groups.keys())\n",
    "#Sample numberprint ('CellNumber: ', CellGroupKeys)\n",
    "\n",
    "#Function read uploaded data\n",
    "def ReadData(uploader):\n",
    "    uploaded_file = list(uploader.value.values())[0]\n",
    "    data = pd.read_csv(io.BytesIO(uploaded_file['content']), sep = \"\\t\")\n",
    "    display(data)\n",
    "#    \n",
    "ReadData(uploader)\n"
   ]
  }
 ],
 "metadata": {
  "kernelspec": {
   "display_name": "Python 3 (ipykernel)",
   "language": "python",
   "name": "python3"
  },
  "language_info": {
   "codemirror_mode": {
    "name": "ipython",
    "version": 3
   },
   "file_extension": ".py",
   "mimetype": "text/x-python",
   "name": "python",
   "nbconvert_exporter": "python",
   "pygments_lexer": "ipython3",
   "version": "3.7.13"
  }
 },
 "nbformat": 4,
 "nbformat_minor": 4
}
