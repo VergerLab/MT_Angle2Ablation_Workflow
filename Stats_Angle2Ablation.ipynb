{
 "cells": [
  {
   "cell_type": "markdown",
   "metadata": {},
   "source": [
    "# **Statistics for Angle to ablation Analysis**\n",
    "(Stats_Angles2Ablation) by Stephane Verger\n",
    "\n",
    "This notebook proposes various statistical analysis of the data (descriptive and inferential), obtained from the quantification output of the Angle2Ablation.ijm macro.\n",
    "\n",
    "* **1- Single condition/timepoint:** Display data, mean angle and anisotropy, histogram representation, and data distrubution skewness and mode.\n",
    "* **2- Multiple condition and time points comparisons:** Same as single (1-) but does it for multiple subfolders (corresponding to different condition/timepoints) in a folder. Then displays boxplots of the of angles and anisotropies comparing different samples and generate statistical test to test the significance of difference between samples.\n",
    "* **3- Timelapses...Todo**\n",
    "\n",
    "First load packages and functions (click on the cell and hit enter+shift to run it).\n",
    "Then run each cell one by one depending on the analysis you want to perform."
   ]
  },
  {
   "cell_type": "markdown",
   "metadata": {},
   "source": [
    "### **Load required packages**"
   ]
  },
  {
   "cell_type": "code",
   "execution_count": null,
   "metadata": {},
   "outputs": [],
   "source": [
    "import os\n",
    "import pandas as pd\n",
    "import numpy as np\n",
    "import matplotlib.pyplot as plt\n",
    "import seaborn as sns\n",
    "from scipy import stats"
   ]
  },
  {
   "cell_type": "markdown",
   "metadata": {},
   "source": [
    "Show packages version number"
   ]
  },
  {
   "cell_type": "code",
   "execution_count": null,
   "metadata": {},
   "outputs": [],
   "source": [
    "%load_ext watermark\n",
    "%watermark -v -m -p pip,jupyterlab,pandas,numpy,matplotlib,seaborn,scipy,watermark"
   ]
  },
  {
   "cell_type": "markdown",
   "metadata": {},
   "source": [
    "## **1. Single condition/timepoint**\n",
    "To examine each data groups descriptive statistics independently. Can be useful before comparative analysis, but not mandatory. Similar data is automatically generated for each compared conditions in \"2- Multiple condition and time points comparisons\". This part of the notebook can also be useful if you want to modify part of the analysis pipeline to test different functions and paramaters by modifying the code (e.g. for the histogram layout).\n",
    "\n",
    "Run at least once the function in \"1.4. Make histograms of angles\" to load it before running the multiple comparison."
   ]
  },
  {
   "cell_type": "markdown",
   "metadata": {},
   "source": [
    "### **1.1. Load data**\n",
    "Below, in single_file_path, define the full path to the file containing all the data to analyse and compare (All_..._Angle2Ablation.txt). Use tab to help navigation in the folders."
   ]
  },
  {
   "cell_type": "code",
   "execution_count": null,
   "metadata": {},
   "outputs": [],
   "source": [
    "single_file_path = '/home/stephane/Desktop/Segmentation4FTBatch-master/Test_file/All_Test_file_Angle2Ablation.txt'"
   ]
  },
  {
   "cell_type": "markdown",
   "metadata": {},
   "source": [
    "Extracts the folder name and path for figure labelling"
   ]
  },
  {
   "cell_type": "code",
   "execution_count": null,
   "metadata": {},
   "outputs": [],
   "source": [
    "single_folder_path = os.path.dirname(single_file_path)\n",
    "single_folder_name = os.path.basename(single_folder_path) \n",
    "print (single_folder_path)\n",
    "print (single_folder_name)"
   ]
  },
  {
   "cell_type": "markdown",
   "metadata": {},
   "source": [
    "### **1.2. Display the data in a table**\n",
    "Show content of the file loaded above"
   ]
  },
  {
   "cell_type": "code",
   "execution_count": null,
   "metadata": {},
   "outputs": [],
   "source": [
    "single_data = pd.read_csv(single_file_path, sep = \"\\t\")\n",
    "single_data"
   ]
  },
  {
   "cell_type": "markdown",
   "metadata": {},
   "source": [
    "### **1.3. Descriptive statistics**\n",
    "Calculate the number of samples (count), mean value, standard deviation, lowest and highest values (min/max), and percentiles (50% = median) of the angle and anisotropy values."
   ]
  },
  {
   "cell_type": "code",
   "execution_count": null,
   "metadata": {},
   "outputs": [],
   "source": [
    "Angle_desc_stats = single_data['Acute absolute angle to ablation'].describe()\n",
    "Angle_desc_stats"
   ]
  },
  {
   "cell_type": "code",
   "execution_count": null,
   "metadata": {},
   "outputs": [],
   "source": [
    "Anisotropy_desc_stats = single_data['Anisotropy'].describe()\n",
    "Anisotropy_desc_stats"
   ]
  },
  {
   "cell_type": "markdown",
   "metadata": {},
   "source": [
    "### **1.4. Make histograms of angles**\n",
    "Generates one histogram diplaying simply the distribution of the angles, and one histogram with added anisotropy weight. (Data for which the anisotropy is higher are given more weight in the histogram)."
   ]
  },
  {
   "cell_type": "code",
   "execution_count": null,
   "metadata": {},
   "outputs": [],
   "source": [
    "def makeAnglesHistogram(HistAngles, title):\n",
    "    sns.set(rc={'figure.figsize':(10,6)}) # To change the size of the figure\n",
    "    bins = np.linspace(0, 90, 10) # To change the number of histogram bin (bars).\n",
    "    sns.distplot(HistAngles, bins=bins, rug=True)\n",
    "    plt.xlabel('Angles(degree)', fontsize=40) # To change the axis labels and font size\n",
    "    plt.ylabel('Frequency', fontsize=40) # To change the axis labels and font size\n",
    "    plt.xticks(fontsize=20)\n",
    "    plt.yticks(fontsize=20)\n",
    "    plt.xlim(0,90)\n",
    "    plt.title(title + ', N=' + str(len(HistAngles)) + ' cells', fontsize=24) # To change the figure title\n",
    "    plt.grid(True)\n",
    "\n",
    "SingleAngleHist = makeAnglesHistogram(single_data['Acute absolute angle to ablation'], single_folder_name)"
   ]
  },
  {
   "cell_type": "markdown",
   "metadata": {},
   "source": [
    "### **1.5. Make box plots of angles and anisotropies**\n",
    "Generates boxplot overlayed with stripplot diplaying the distribution of the angles as well as anisotropes, for each sample in the condition. Can allow to check if most samples behave in the same way.\n",
    "\n",
    "The function defined here to make the box plot is the same one used in the multiple comparison later so the boxplot layout and  style can be changed here."
   ]
  },
  {
   "cell_type": "code",
   "execution_count": null,
   "metadata": {},
   "outputs": [],
   "source": [
    "def makeStripBoxplot(StripBoxDataFile, sample, value, title):\n",
    "    ax = sns.boxplot(x=sample, y=value, data=StripBoxDataFile, color='w')\n",
    "    ax = sns.stripplot(x=sample, y=value, data=StripBoxDataFile, color='0.25')\n",
    "    plt.xlabel(sample, fontsize=40) # To change the axis labels and font size\n",
    "    plt.ylabel(value, fontsize=40) # To change the axis labels and font size\n",
    "    plt.xticks(fontsize=20)\n",
    "    plt.yticks(fontsize=20)\n",
    "    plt.title(title + ', N=' + str(len(sample)) + ' cells', fontsize=24) # To change the figure title\n",
    "    plt.grid(True)\n",
    "    \n",
    "SingleAngleBoxplot = makeStripBoxplot(single_data, 'Sample Number', 'Acute absolute angle to ablation', single_folder_name)"
   ]
  },
  {
   "cell_type": "code",
   "execution_count": null,
   "metadata": {},
   "outputs": [],
   "source": [
    "SingleAnisotropyBoxplot = makeStripBoxplot(single_data, 'Sample Number', 'Anisotropy', single_folder_name)"
   ]
  },
  {
   "cell_type": "markdown",
   "metadata": {},
   "source": [
    "### **1.6. Skweness**\n",
    "\"Skew: For normally distributed data, the skewness should be about zero. For unimodal continuous distributions, a skewness value greater than zero means that there is more weight in the right tail of the distribution. The function skewtest can be used to determine if the skewness value is close enough to zero, statistically speaking. If the p-value is lower than 0.05, it can be considered that the distribution is significantly skewed.\" From https://docs.scipy.org/doc/scipy/reference/generated/scipy.stats.skew.html"
   ]
  },
  {
   "cell_type": "code",
   "execution_count": null,
   "metadata": {},
   "outputs": [],
   "source": [
    "skew=stats.skew(single_data['Acute absolute angle to ablation'])\n",
    "statskew, pskew=stats.skewtest(single_data['Acute absolute angle to ablation'])\n",
    "print (\"skew \" + str(skew) + \"\\npvalue \" + str(pskew))"
   ]
  },
  {
   "cell_type": "markdown",
   "metadata": {},
   "source": [
    "### **1.7. Save output**\n",
    "\n",
    "Todo...\n",
    "Not necessary if you intend to perform multiple comparison with the condition examined here.\n",
    "\n",
    "Define where to save the output."
   ]
  },
  {
   "cell_type": "code",
   "execution_count": null,
   "metadata": {},
   "outputs": [],
   "source": [
    "single_output_path = '/home/stephane/Desktop/Segmentation4FTBatch-master/response/'"
   ]
  },
  {
   "cell_type": "code",
   "execution_count": null,
   "metadata": {},
   "outputs": [],
   "source": [
    "...To do figure.savefig(single_folder + \"_histogram.svg\")"
   ]
  },
  {
   "cell_type": "markdown",
   "metadata": {},
   "source": [
    "## **2. Multiple condition and time points comparisons:** \n",
    "Same as single but does it for multiple subfolders (corresponding to different condition/mutant/timepoints) in a folder. In addition displays boxplots of the of angles and anisotropies comparing different samnples and generate statistical tests to determine i fthere is a difference between the compared samples.\n"
   ]
  },
  {
   "cell_type": "markdown",
   "metadata": {},
   "source": [
    "### **2.1. Load data**\n",
    "Below, in multiple_updir_path, define the full path to the folder containing the subfolders of the conditions and timepoint to compare. Use tab to help navigation in the folders."
   ]
  },
  {
   "cell_type": "code",
   "execution_count": null,
   "metadata": {},
   "outputs": [],
   "source": [
    "multiple_updir_path = '/home/stephane/Desktop/Segmentation4FTBatch-master/'"
   ]
  },
  {
   "cell_type": "markdown",
   "metadata": {},
   "source": [
    "### **2.2. Generate and save descriptive statistics**\n",
    "Number of samples, mean value, standard deviation,... Histogram, boxplots and test skewness for each condition. As in \"1.\""
   ]
  },
  {
   "cell_type": "code",
   "execution_count": null,
   "metadata": {},
   "outputs": [],
   "source": [
    "multi_data = pd.DataFrame(columns = ['Genotype/condition', 'Sample Number', 'CellNumber', 'FibrilTool Angle', 'Drawn Line Angle', 'Raw angle', 'Absolute angle', 'Acute absolute angle to ablation', 'Anisotropy'])\n",
    "###Find subdirectories containing the experiments/conditions to analyse\n",
    "for dirname in sorted(os.listdir(multiple_updir_path)):\n",
    "    dirpath = multiple_updir_path + dirname\n",
    "    if os.path.isdir(dirpath):\n",
    "        if \".ipynb_checkpoints\" in dirname:\n",
    "            print (\".ipynb_checkpoints folder skipped\\n\\n\")\n",
    "        else:\n",
    "            print (\"\\n>>>Condition analyzed: \" + dirname)\n",
    "            \n",
    "            ###Load data\n",
    "            Result_file_name = 'All_' + dirname + '_Angle2Ablation.txt'\n",
    "            data = pd.read_csv(dirpath + '/' + Result_file_name, sep = \"\\t\")\n",
    "            \n",
    "            ###Descriptive statistics\n",
    "            for datatype in ('Acute absolute angle to ablation', 'Anisotropy'):\n",
    "                Multi_Angle_desc_stats = data[datatype].describe()\n",
    "                print (\"\\n\" + datatype + \" descriptive statistics:\")\n",
    "                print (Multi_Angle_desc_stats)\n",
    "                #print (data[datatype])\n",
    "            \n",
    "            #Skew\n",
    "            skew=stats.skew(data['Acute absolute angle to ablation'])\n",
    "            statskew, pskew=stats.skewtest(data['Acute absolute angle to ablation'])\n",
    "            print (\"\\nAngles distribution skeweness statistics:\")\n",
    "            print (\"skew \" + str(skew) + \"\\npvalue \" + str(pskew) + \"\\n\")\n",
    "            \n",
    "            #Histogram Angles\n",
    "            plt.figure(dirname + \"angles\")\n",
    "            makeAnglesHistogram(data['Acute absolute angle to ablation'], dirname)\n",
    "            #figure.savefig(multiple_updir_path + dirname + \"_histogramfh.svg\")\n",
    "            \n",
    "            ### Add the current subfolder name to the list of analyzed subfolder names\n",
    "            multi_data = pd.concat([multi_data, data], ignore_index=True)"
   ]
  },
  {
   "cell_type": "markdown",
   "metadata": {},
   "source": [
    "Display new dataframe generated containing all the values of all the conditions compared"
   ]
  },
  {
   "cell_type": "code",
   "execution_count": null,
   "metadata": {},
   "outputs": [],
   "source": [
    "multi_data"
   ]
  },
  {
   "cell_type": "code",
   "execution_count": null,
   "metadata": {},
   "outputs": [],
   "source": [
    "###Generate boxplot to compare anisotropies and angles\n",
    "plt.figure(\"Angles comparison\")\n",
    "MultiAngleBoxplot = makeStripBoxplot(multi_data, 'Genotype/condition', 'Acute absolute angle to ablation', \"Angles comparison\")\n",
    "plt.figure(\"Anisotropies comparison\")\n",
    "MultiAnisotropyBoxplot = makeStripBoxplot(multi_data, 'Genotype/condition', 'Anisotropy', \"Anisotropies comparison\")"
   ]
  },
  {
   "cell_type": "markdown",
   "metadata": {},
   "source": [
    "### **Run statistical tests to compare CMT reorientation and anisotropy after response to ablation**"
   ]
  },
  {
   "cell_type": "markdown",
   "metadata": {},
   "source": [
    "Genotypes and conditions to compare"
   ]
  },
  {
   "cell_type": "code",
   "execution_count": null,
   "metadata": {},
   "outputs": [],
   "source": [
    "list_geno_cond = multi_data['Genotype/condition'].unique()\n",
    "print (\"There are \" + str(len(list_geno_cond)) + \" genotype and/or condition to compare:\\n\" + str(list_geno_cond))"
   ]
  },
  {
   "cell_type": "code",
   "execution_count": null,
   "metadata": {},
   "outputs": [],
   "source": [
    "#Loop to compare each samples\n",
    "for A in list_geno_cond:\n",
    "    result_A = np.where(list_geno_cond == A)\n",
    "    for B in list_geno_cond:\n",
    "        result_B = np.where(list_geno_cond == B)\n",
    "        if result_A[0]<result_B[0]:            \n",
    "            print (\"\\n>>>Comparison of '\" + A + \"' and '\" + B + \"'\")\n",
    "            \n",
    "            ###Process: 'Angles' --> angle_data_ and 'Anisotropy' --> anisotropy_data_ for each comparison\n",
    "            for col_name in ('Acute absolute angle to ablation', 'Anisotropy'):\n",
    "                data_inputA = multi_data[multi_data['Genotype/condition'] == A][col_name]\n",
    "                data_inputB = multi_data[multi_data['Genotype/condition'] == B][col_name]\n",
    "                #print (str(A) + \" -> \" + str(col_name) + \"\\n\" + str(data_inputA))\n",
    "                #print (str(B) + \" -> \" + str(col_name) + \"\\n\" + str(data_inputB))\n",
    "                \n",
    "                ###Test decision \n",
    "                ###t-test can be done if both samples populations a normally distributed and have equal variance\n",
    "                ###\n",
    "        \n",
    "                ###Shapiro's test for normality\n",
    "                ###test sample A and then samples B\n",
    "                norm = []\n",
    "                print (\"- Shapiro's test for normality:\")\n",
    "                for sample, name in zip((data_inputA, data_inputB), (A, B)):\n",
    "                    w, pnorm = stats.shapiro(sample)\n",
    "                    #print (sample)\n",
    "                    if pnorm>0.05:\n",
    "                        norm.append(True)\n",
    "                        print (name + \" \" + col_name + \" population IS normally distributed --> p-value is \" + str(round(pnorm, 4)))\n",
    "                    else:\n",
    "                        norm.append(False)\n",
    "                        print (name + \" \" + col_name + \" population is NOT normally distributed--> p-value is \" + str(round(pnorm, 4)))\n",
    "                        \n",
    "                ### Determine \"t-test or Welchs test\" or \"wilcoxon rank sum test\"\n",
    "                if norm[0] and norm[1] is True:\n",
    "                    print (\"Both sample have normal distibution --> t-test or Welchs test\\n\")\n",
    "            \n",
    "                    ###Bartlett's test for equal variance (to determine between t-test and Welchs test)\n",
    "                    print (\"- Bartlett's test for equal variance\")\n",
    "                    t, pvar = stats.bartlett(data_inputA, data_inputB)\n",
    "                    if pvar>0.05:\n",
    "                        equalvar=True\n",
    "                        print (\"samples have equal variance--> t-test\")\n",
    "                    else:\n",
    "                        equalvar=False\n",
    "                        print (\"samples do not have equal variance--> Welchs test\")\n",
    "\n",
    "                    ###t-test (Welch's if variances are unequal)\n",
    "                    t2, pVal = stats.ttest_ind(data_inputA, data_inputB, equal_var=equalvar)\n",
    "\n",
    "                ### If at least one sample has non normal population distribution: wilcoxon rank sum test\n",
    "                else:\n",
    "                    print (\"At least one sample does Not have normal distibution --> wilcoxon rank sum test\")\n",
    "                    statrank, pVal = stats.ranksums(data_inputA, data_inputB)\n",
    "        \n",
    "        \n",
    "                ### Comparison test output\n",
    "                if pVal>0.05:\n",
    "                    print (\"###################################################################\\n\",\n",
    "                           \"--> \" + col_name + \" are NOT significantly different --> p-value is \" + str(round(pVal,10)) +\n",
    "                           \"\\n###################################################################\\n\")\n",
    "\n",
    "                else:\n",
    "                    print (\"###################################################################\\n\",\n",
    "                           \"--> \" + col_name + \" are significantly different --> p-value is \" + str(round(pVal,10)) +\n",
    "                           \"\\n###################################################################\\n\")"
   ]
  },
  {
   "cell_type": "code",
   "execution_count": null,
   "metadata": {},
   "outputs": [],
   "source": []
  }
 ],
 "metadata": {
  "kernelspec": {
   "display_name": "Python 3",
   "language": "python",
   "name": "python3"
  },
  "language_info": {
   "codemirror_mode": {
    "name": "ipython",
    "version": 3
   },
   "file_extension": ".py",
   "mimetype": "text/x-python",
   "name": "python",
   "nbconvert_exporter": "python",
   "pygments_lexer": "ipython3",
   "version": "3.7.7"
  }
 },
 "nbformat": 4,
 "nbformat_minor": 4
}
