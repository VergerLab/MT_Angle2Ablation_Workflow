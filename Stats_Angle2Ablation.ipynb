{
 "cells": [
  {
   "cell_type": "markdown",
   "metadata": {},
   "source": [
    "# **Statistics for Angle to ablation Analysis**\n",
    "(Stats_Angles2Ablation) by Stephane Verger\n",
    "\n",
    "## **What does this notebook contain**\n",
    "This notebook proposes various statistical analysis of the data (descriptive and inferential), obtained from the quantification output of the Angle2Ablation.ijm macro, part of the MT_Angle2Ablation_Workflow (https://github.com/VergerLab/MT_Angle2Ablation_Workflow).\n",
    "\n",
    "* **1- Single condition/timepoint:** Display data, mean angle and anisotropy, histogram representation, and data distrubution skewness and mode.\n",
    "* **2- Multiple condition and time points comparisons:** Same as (1- Single condition/timepoint) but does it for multiple subfolders (corresponding to different condition/timepoints) in a folder. Then displays boxplots of the of angles and anisotropies comparing different samples and generate statistical tests to test the significance of difference between samples.\n",
    "* **3- Timelapses...Todo**\n",
    "\n",
    "\n",
    "## **How to use this notebook**\n",
    "The principle is that you can run pieces of code that perform the diferent steps of the statistical analysis, one by one. In this case you will first load the required python packages, and display their version number. You will then load your data (actually define the path), display the content of your data, start to run some descriptive statistic of your data, etc. \n",
    "Follow the instructions in the notebook step by step, keeping in mind that sometimes some cells can be skipped. \n",
    "\n",
    "Running a cell containing a peice of code is simply done by clicking on the grayed area (selected cell will appear outlined in blue) and pressing Shift+Enter. This will execute the content of the cell.\n",
    "\n",
    "To discover the basics of how to run a jupyter notebook, you can also try: https://try.jupyter.org. Click on \"Try Classic Notebook\"."
   ]
  },
  {
   "cell_type": "markdown",
   "metadata": {},
   "source": [
    "### **Load required packages**\n",
    "Before starting, load packages and functions (click on the cell below and hit enter+shift to run it).\n",
    "Then run each cell one by one depending on the analysis you want to perform."
   ]
  },
  {
   "cell_type": "code",
   "execution_count": 1,
   "metadata": {},
   "outputs": [],
   "source": [
    "import os\n",
    "from datetime import datetime\n",
    "import pandas as pd\n",
    "import numpy as np\n",
    "import matplotlib.pyplot as plt\n",
    "import seaborn as sns\n",
    "from scipy import stats"
   ]
  },
  {
   "cell_type": "markdown",
   "metadata": {},
   "source": [
    "To confirm that the packages were loaded properly and for record keeping of the actual conditions of the analysis, you can show the version number of the packages, the python version and the system used. To do so, run the cell below."
   ]
  },
  {
   "cell_type": "code",
   "execution_count": 2,
   "metadata": {},
   "outputs": [
    {
     "name": "stdout",
     "output_type": "stream",
     "text": [
      "2020-11-17 15:31:48 \n",
      "\n",
      "CPython 3.7.9\n",
      "IPython 7.19.0\n",
      "\n",
      "pip 20.2.4\n",
      "jupyterlab 2.1.5\n",
      "pandas 1.1.3\n",
      "numpy 1.19.2\n",
      "matplotlib 3.2.2\n",
      "seaborn 0.10.1\n",
      "scipy 1.5.0\n",
      "watermark 2.0.2\n",
      "\n",
      "compiler   : GCC 7.3.0\n",
      "system     : Linux\n",
      "release    : 4.15.0-1100-oem\n",
      "machine    : x86_64\n",
      "processor  : x86_64\n",
      "CPU cores  : 8\n",
      "interpreter: 64bit\n"
     ]
    }
   ],
   "source": [
    "%load_ext watermark\n",
    "%watermark -d -t -v -m -p pip,jupyterlab,pandas,numpy,matplotlib,seaborn,scipy,watermark"
   ]
  },
  {
   "cell_type": "markdown",
   "metadata": {},
   "source": [
    "## **1. Single condition/timepoint**\n",
    "This part of the notebook is dedicated to examine each data groups descriptive statistics independently. It can be useful before comparative analysis, but not mandatory. Similar data is automatically generated for each compared conditions in \"2- Multiple condition and time points comparisons\". This part of the notebook can also be useful if you want to modify part of the analysis pipeline to test different functions and paramaters by modifying the code (e.g. for the histogram layout).\n",
    "\n",
    "!!!Run at least once each cell, because a number of these cells are defining functions (def), which are used later in the notebook."
   ]
  },
  {
   "cell_type": "markdown",
   "metadata": {},
   "source": [
    "### **1.1. Load data**\n",
    "In the cell below, define the full path to the file containing all the data to analyse (All_..._Angle2Ablation.txt). (If you are trying the analysis with the pre-loaded test data on binder, directly run the cell below).\n",
    "\n",
    "1. First, in the cell below, erase the current path \"/Home/...\"\n",
    "2. Keep the two quotes '.\n",
    "   - On LINUX, MAC or if you run the notebook on binder, also keep the first slash (/). In the cell, you should have (single_file_path = '/').\n",
    "   - On windows you should instead have something like (single_file_path = 'C:\\\\'). Use antislash (\\\\) in windows.\n",
    "3. Place your mouse cursor and click just before the second quote mark (single_file_path = '/[here]' or single_file_path = 'C:\\\\[here]').\n",
    "4. Then press tab. A list of the subdirectories will drop down. Select the one containing the folder with your data. Continue until you finally select the actual file that you want to analyse (All_..._Angle2Ablation.txt). If you are using binder, start the path with \"/home/jovyan/\".\n",
    "5. Once your path is complete (The cell content should look like \"single_file_path ='/home/jovyan/TestData/Test_file/All_Test_file_Angle2Ablation.txt'\"), run the cell.\n",
    "\n",
    "!!! Avoid spaces in the names of the folders!!!"
   ]
  },
  {
   "cell_type": "code",
   "execution_count": 3,
   "metadata": {},
   "outputs": [],
   "source": [
    "single_file_path ='/home/jovyan/TestData/Test_file/All_Test_file_Angle2Ablation.txt'"
   ]
  },
  {
   "cell_type": "markdown",
   "metadata": {},
   "source": [
    "Then run the following cell to extracts the folder name and path for figure labelling."
   ]
  },
  {
   "cell_type": "code",
   "execution_count": 4,
   "metadata": {},
   "outputs": [
    {
     "name": "stdout",
     "output_type": "stream",
     "text": [
      "/home/stephane/Research/Experiments/Ablation_Angle_Analysis/From_github/MT_Angle2Ablation_Workflow-master/TestData/response\n",
      "response\n"
     ]
    }
   ],
   "source": [
    "single_folder_path = os.path.dirname(single_file_path)\n",
    "single_folder_name = os.path.basename(single_folder_path) \n",
    "print (single_folder_path)\n",
    "print (single_folder_name)"
   ]
  },
  {
   "cell_type": "markdown",
   "metadata": {},
   "source": [
    "Choose where the output will be saved. Most of the cells that you will run below will generate text output or plots. These will be automatically saved as you run them. Below define the folder in which it will be saved. We suggest to use the same folder that contains the file you analyse. You can for instance directly copy the same path as for (single_file_path) but removing the last item (All_..._Angle2Ablation.txt), and making sure to keep the last slash or antislash depending on the operating system used. If you run the notebook on binder, directly use the pre-loaded path."
   ]
  },
  {
   "cell_type": "code",
   "execution_count": 5,
   "metadata": {},
   "outputs": [],
   "source": [
    "single_output_path = '/home/jovyan/TestData/Test_file/'"
   ]
  },
  {
   "cell_type": "markdown",
   "metadata": {},
   "source": [
    "Generate the output text file. After running the cell below you can check if the file has been generated in the specified output folder and if it contains prelininary information about the analysis. It will then be appended with the results generated below."
   ]
  },
  {
   "cell_type": "code",
   "execution_count": 6,
   "metadata": {},
   "outputs": [],
   "source": [
    "# Define log file name and path \n",
    "single_output_logFilePathName = str(single_output_path) + 'Log_' + str(single_folder_name) + '_Stats_Angle2ablation.txt'\n",
    "\n",
    "# generate and write in the log .txt file\n",
    "fLogSingle = open(single_output_logFilePathName, 'w')\n",
    "fLogSingle.write('Stats_Angle2Ablation \"single\" analysis\\n')\n",
    "fLogSingle.write('File analysed and path:\\n')\n",
    "fLogSingle.write(single_file_path + '\\n')\n",
    "fLogSingle.close()"
   ]
  },
  {
   "cell_type": "markdown",
   "metadata": {},
   "source": [
    "### **1.2. Display the data in a table**\n",
    "Show content of the file loaded above"
   ]
  },
  {
   "cell_type": "code",
   "execution_count": 7,
   "metadata": {},
   "outputs": [
    {
     "data": {
      "text/html": [
       "<div>\n",
       "<style scoped>\n",
       "    .dataframe tbody tr th:only-of-type {\n",
       "        vertical-align: middle;\n",
       "    }\n",
       "\n",
       "    .dataframe tbody tr th {\n",
       "        vertical-align: top;\n",
       "    }\n",
       "\n",
       "    .dataframe thead th {\n",
       "        text-align: right;\n",
       "    }\n",
       "</style>\n",
       "<table border=\"1\" class=\"dataframe\">\n",
       "  <thead>\n",
       "    <tr style=\"text-align: right;\">\n",
       "      <th></th>\n",
       "      <th>Genotype/condition</th>\n",
       "      <th>Sample Number</th>\n",
       "      <th>CellNumber</th>\n",
       "      <th>FibrilTool Angle</th>\n",
       "      <th>Drawn Line Angle</th>\n",
       "      <th>Raw angle</th>\n",
       "      <th>Absolute angle</th>\n",
       "      <th>Acute absolute angle to ablation</th>\n",
       "      <th>Anisotropy</th>\n",
       "    </tr>\n",
       "  </thead>\n",
       "  <tbody>\n",
       "    <tr>\n",
       "      <th>0</th>\n",
       "      <td>response</td>\n",
       "      <td>1</td>\n",
       "      <td>1</td>\n",
       "      <td>41.9872</td>\n",
       "      <td>29.5115</td>\n",
       "      <td>12.4757</td>\n",
       "      <td>12.4757</td>\n",
       "      <td>12.4757</td>\n",
       "      <td>0.1419</td>\n",
       "    </tr>\n",
       "    <tr>\n",
       "      <th>1</th>\n",
       "      <td>response</td>\n",
       "      <td>1</td>\n",
       "      <td>2</td>\n",
       "      <td>36.0274</td>\n",
       "      <td>29.0546</td>\n",
       "      <td>6.9728</td>\n",
       "      <td>6.9728</td>\n",
       "      <td>6.9728</td>\n",
       "      <td>0.1493</td>\n",
       "    </tr>\n",
       "    <tr>\n",
       "      <th>2</th>\n",
       "      <td>response</td>\n",
       "      <td>1</td>\n",
       "      <td>3</td>\n",
       "      <td>33.6901</td>\n",
       "      <td>21.3706</td>\n",
       "      <td>12.3194</td>\n",
       "      <td>12.3194</td>\n",
       "      <td>12.3194</td>\n",
       "      <td>0.0945</td>\n",
       "    </tr>\n",
       "    <tr>\n",
       "      <th>3</th>\n",
       "      <td>response</td>\n",
       "      <td>1</td>\n",
       "      <td>4</td>\n",
       "      <td>22.3801</td>\n",
       "      <td>1.1935</td>\n",
       "      <td>21.1866</td>\n",
       "      <td>21.1866</td>\n",
       "      <td>21.1866</td>\n",
       "      <td>0.1572</td>\n",
       "    </tr>\n",
       "    <tr>\n",
       "      <th>4</th>\n",
       "      <td>response</td>\n",
       "      <td>1</td>\n",
       "      <td>5</td>\n",
       "      <td>42.8789</td>\n",
       "      <td>29.1481</td>\n",
       "      <td>13.7308</td>\n",
       "      <td>13.7308</td>\n",
       "      <td>13.7308</td>\n",
       "      <td>0.1533</td>\n",
       "    </tr>\n",
       "    <tr>\n",
       "      <th>5</th>\n",
       "      <td>response</td>\n",
       "      <td>1</td>\n",
       "      <td>6</td>\n",
       "      <td>33.6901</td>\n",
       "      <td>35.5377</td>\n",
       "      <td>-1.8476</td>\n",
       "      <td>1.8476</td>\n",
       "      <td>1.8476</td>\n",
       "      <td>0.0702</td>\n",
       "    </tr>\n",
       "    <tr>\n",
       "      <th>6</th>\n",
       "      <td>response</td>\n",
       "      <td>2</td>\n",
       "      <td>1</td>\n",
       "      <td>28.6105</td>\n",
       "      <td>20.2249</td>\n",
       "      <td>8.3856</td>\n",
       "      <td>8.3856</td>\n",
       "      <td>8.3856</td>\n",
       "      <td>0.2459</td>\n",
       "    </tr>\n",
       "    <tr>\n",
       "      <th>7</th>\n",
       "      <td>response</td>\n",
       "      <td>2</td>\n",
       "      <td>2</td>\n",
       "      <td>22.6199</td>\n",
       "      <td>22.3801</td>\n",
       "      <td>0.2397</td>\n",
       "      <td>0.2397</td>\n",
       "      <td>0.2397</td>\n",
       "      <td>0.1345</td>\n",
       "    </tr>\n",
       "    <tr>\n",
       "      <th>8</th>\n",
       "      <td>response</td>\n",
       "      <td>2</td>\n",
       "      <td>3</td>\n",
       "      <td>37.2348</td>\n",
       "      <td>26.8869</td>\n",
       "      <td>10.3479</td>\n",
       "      <td>10.3479</td>\n",
       "      <td>10.3479</td>\n",
       "      <td>0.2523</td>\n",
       "    </tr>\n",
       "    <tr>\n",
       "      <th>9</th>\n",
       "      <td>response</td>\n",
       "      <td>2</td>\n",
       "      <td>4</td>\n",
       "      <td>27.8973</td>\n",
       "      <td>16.4769</td>\n",
       "      <td>11.4204</td>\n",
       "      <td>11.4204</td>\n",
       "      <td>11.4204</td>\n",
       "      <td>0.1834</td>\n",
       "    </tr>\n",
       "    <tr>\n",
       "      <th>10</th>\n",
       "      <td>response</td>\n",
       "      <td>2</td>\n",
       "      <td>5</td>\n",
       "      <td>25.6410</td>\n",
       "      <td>18.4349</td>\n",
       "      <td>7.2061</td>\n",
       "      <td>7.2061</td>\n",
       "      <td>7.2061</td>\n",
       "      <td>0.2114</td>\n",
       "    </tr>\n",
       "    <tr>\n",
       "      <th>11</th>\n",
       "      <td>response</td>\n",
       "      <td>2</td>\n",
       "      <td>6</td>\n",
       "      <td>27.4744</td>\n",
       "      <td>19.4861</td>\n",
       "      <td>7.9883</td>\n",
       "      <td>7.9883</td>\n",
       "      <td>7.9883</td>\n",
       "      <td>0.2324</td>\n",
       "    </tr>\n",
       "  </tbody>\n",
       "</table>\n",
       "</div>"
      ],
      "text/plain": [
       "   Genotype/condition  Sample Number  CellNumber  FibrilTool Angle  \\\n",
       "0            response              1           1           41.9872   \n",
       "1            response              1           2           36.0274   \n",
       "2            response              1           3           33.6901   \n",
       "3            response              1           4           22.3801   \n",
       "4            response              1           5           42.8789   \n",
       "5            response              1           6           33.6901   \n",
       "6            response              2           1           28.6105   \n",
       "7            response              2           2           22.6199   \n",
       "8            response              2           3           37.2348   \n",
       "9            response              2           4           27.8973   \n",
       "10           response              2           5           25.6410   \n",
       "11           response              2           6           27.4744   \n",
       "\n",
       "    Drawn Line Angle  Raw angle  Absolute angle  \\\n",
       "0            29.5115    12.4757         12.4757   \n",
       "1            29.0546     6.9728          6.9728   \n",
       "2            21.3706    12.3194         12.3194   \n",
       "3             1.1935    21.1866         21.1866   \n",
       "4            29.1481    13.7308         13.7308   \n",
       "5            35.5377    -1.8476          1.8476   \n",
       "6            20.2249     8.3856          8.3856   \n",
       "7            22.3801     0.2397          0.2397   \n",
       "8            26.8869    10.3479         10.3479   \n",
       "9            16.4769    11.4204         11.4204   \n",
       "10           18.4349     7.2061          7.2061   \n",
       "11           19.4861     7.9883          7.9883   \n",
       "\n",
       "    Acute absolute angle to ablation  Anisotropy  \n",
       "0                            12.4757      0.1419  \n",
       "1                             6.9728      0.1493  \n",
       "2                            12.3194      0.0945  \n",
       "3                            21.1866      0.1572  \n",
       "4                            13.7308      0.1533  \n",
       "5                             1.8476      0.0702  \n",
       "6                             8.3856      0.2459  \n",
       "7                             0.2397      0.1345  \n",
       "8                            10.3479      0.2523  \n",
       "9                            11.4204      0.1834  \n",
       "10                            7.2061      0.2114  \n",
       "11                            7.9883      0.2324  "
      ]
     },
     "execution_count": 7,
     "metadata": {},
     "output_type": "execute_result"
    }
   ],
   "source": [
    "single_data = pd.read_csv(single_file_path, sep = \"\\t\")\n",
    "single_data"
   ]
  },
  {
   "cell_type": "markdown",
   "metadata": {},
   "source": [
    "### **1.3. Descriptive statistics**"
   ]
  },
  {
   "cell_type": "markdown",
   "metadata": {},
   "source": [
    "Calculate the number of samples (count), mean value, standard deviation, lowest and highest values (min/max), and percentiles (50% = median) of the angle and anisotropy values.\n",
    "The first generates the fonction to calculate and save the output. The 2nd and 3rd cell apply the function to calculate the descriptive statistics for the angles and anisotropy values. respectively"
   ]
  },
  {
   "cell_type": "code",
   "execution_count": 8,
   "metadata": {},
   "outputs": [],
   "source": [
    "def DescriptiveStatistics(DataFile, value, title, log):\n",
    "    # Descriptive statistics\n",
    "    Desc_stats = DataFile[value].describe()\n",
    "\n",
    "    # Write output to log file\n",
    "    log.write('\\n\\n===\\nDescriptive statistics on \"' + value + '\" of \"' + title + '\"\\n===\\n')\n",
    "    log.write(str(Desc_stats))\n",
    "    print(Desc_stats)"
   ]
  },
  {
   "cell_type": "markdown",
   "metadata": {},
   "source": [
    "For angles"
   ]
  },
  {
   "cell_type": "code",
   "execution_count": 9,
   "metadata": {},
   "outputs": [
    {
     "name": "stdout",
     "output_type": "stream",
     "text": [
      "count    12.000000\n",
      "mean      9.510075\n",
      "std       5.519996\n",
      "min       0.239700\n",
      "25%       7.147775\n",
      "50%       9.366750\n",
      "75%      12.358475\n",
      "max      21.186600\n",
      "Name: Acute absolute angle to ablation, dtype: float64\n"
     ]
    }
   ],
   "source": [
    "fLogSingle = open(single_output_logFilePathName, 'a') # Open the log file to save output\n",
    "DescriptiveStatistics(single_data, 'Acute absolute angle to ablation', single_folder_name, fLogSingle) # Run the function\n",
    "fLogSingle.close() # Close and save the output log file "
   ]
  },
  {
   "cell_type": "markdown",
   "metadata": {},
   "source": [
    "For anisotropies"
   ]
  },
  {
   "cell_type": "code",
   "execution_count": 10,
   "metadata": {},
   "outputs": [
    {
     "name": "stdout",
     "output_type": "stream",
     "text": [
      "count    12.000000\n",
      "mean      0.168858\n",
      "std       0.057908\n",
      "min       0.070200\n",
      "25%       0.140050\n",
      "50%       0.155250\n",
      "75%       0.216650\n",
      "max       0.252300\n",
      "Name: Anisotropy, dtype: float64\n"
     ]
    }
   ],
   "source": [
    "fLogSingle = open(single_output_logFilePathName, 'a')\n",
    "DescriptiveStatistics(single_data, 'Anisotropy', single_folder_name, fLogSingle)\n",
    "fLogSingle.close()"
   ]
  },
  {
   "cell_type": "markdown",
   "metadata": {},
   "source": [
    "### **1.4. Make histograms of angles**\n",
    "This cell generates one regular and one polar histogram diplaying the distribution of the angles. !!! Both histogram display the same data !!!\n",
    "The figures generated are automatically saved as .svg. This allows you afterwards to easily open and edits some aspects of the figure (Legends, axis names, colors,...) in your favorite vector graphic editor (e.g. Inkscape or illustrator). It will appear as a single object that you can \"ungroup\" into its different components."
   ]
  },
  {
   "cell_type": "code",
   "execution_count": 11,
   "metadata": {},
   "outputs": [],
   "source": [
    "def makeAnglesHistogram(DataFile, value, title, log, outPath):\n",
    "    #figure parameters\n",
    "    fig = plt.figure()\n",
    "\n",
    "    # Data\n",
    "    HistAngles = DataFile[value]\n",
    "    bins = np.linspace(0, 90, 10) # To change the number of histogram bin (bars).\n",
    "    N = 9\n",
    "    theta = np.linspace(0.0, 0.5 * np.pi, N, endpoint=False)\n",
    "    radii = plt.hist(HistAngles, bins=bins)[0].astype(int)/HistAngles.count()\n",
    "    width = 0.5 * np.pi / N\n",
    "\n",
    "    # Classical histogram\n",
    "    ax1 = plt.subplot(121)\n",
    "    #sns.set(rc={'figure.figsize':(10,5)})\n",
    "    sns.distplot(HistAngles, bins=bins, rug=True)\n",
    "    ax1.set_title(title) # + ', (N=' + str(len(HistAngles)) + ' cells)', fontsize=24) # To change the figure title\n",
    "    ax1.set_xlabel('Angles(degree)', fontsize=30) # To change the axis labels and font size\n",
    "    ax1.set_ylabel('Frequency', fontsize=30) # To change the axis labels and font size\n",
    "    ax1.set_xlim(0,90)\n",
    "\n",
    "    # polar histogram\n",
    "    ax2 = plt.subplot(122, projection='polar')\n",
    "    bars = ax2.bar(theta, radii, width=width, bottom=0.0, align = 'edge', edgecolor = 'k')\n",
    "    ax2.set_xlim(0,0.5 * np.pi)\n",
    "    for r, bar in zip(radii, bars):\n",
    "        bar.set_facecolor(plt.cm.viridis(r / 0.5))\n",
    "        bar.set_alpha(0.5)\n",
    "\n",
    "    # Saving output\n",
    "    FigNamePath = outPath + title + '_' + value + '_histogram.svg'\n",
    "    fig.savefig(FigNamePath, bbox_inches = 'tight', facecolor='w')\n",
    "    log.write('\\n\\n===\\nHistogram of \"' +  title + '_' + value  + '\" was generated\\n===\\n')\n",
    "    log.write('Path: ' + FigNamePath + '\\n===')\n",
    "\n",
    "    plt.tight_layout()\n",
    "    plt.show()"
   ]
  },
  {
   "cell_type": "code",
   "execution_count": 12,
   "metadata": {},
   "outputs": [
    {
     "data": {
      "image/png": "[encoded data removed]",
      "text/plain": [
       "<Figure size 432x288 with 2 Axes>"
      ]
     },
     "metadata": {
      "needs_background": "light"
     },
     "output_type": "display_data"
    }
   ],
   "source": [
    "fLogSingle = open(single_output_logFilePathName, 'a')\n",
    "makeAnglesHistogram(single_data, 'Acute absolute angle to ablation', single_folder_name, fLogSingle, single_output_path)\n",
    "fLogSingle.close()"
   ]
  },
  {
   "cell_type": "markdown",
   "metadata": {},
   "source": [
    "### **1.5. Make box plots of angles and anisotropies**\n",
    "Generates boxplot overlayed with stripplot diplaying the distribution of the angles as well as anisotropes, for each sample in the condition. Can allow to check if most samples within a single condition behave in the same way.\n",
    "\n",
    "The function defined here to make the box plot is the same one used in the multiple comparison later so the boxplot layout and  style can be changed here."
   ]
  },
  {
   "cell_type": "code",
   "execution_count": 13,
   "metadata": {},
   "outputs": [],
   "source": [
    "def makeStripBoxplot(DataFile, sample, value, title, log, outPath):\n",
    "    #figure parameters\n",
    "    fig = plt.figure()\n",
    "    \n",
    "    #Boxplot overlaid with stripplot\n",
    "    ax1 = plt.subplot(111)\n",
    "    #sns.set(rc={'figure.figsize':(10,10)})\n",
    "    ax = sns.boxplot(x=sample, y=value, data=DataFile, color='w')\n",
    "    ax = sns.stripplot(x=sample, y=value, data=DataFile, color='0.25')\n",
    "    plt.title(title) # + ', N=' + str(len(sample)) + ' cells', fontsize=24) # To change the figure title\n",
    "    plt.xlabel(sample, fontsize=30) # To change the axis labels and font size\n",
    "    plt.ylabel(value, fontsize=30) # To change the axis labels and font size\n",
    "    \n",
    "    # Saving output\n",
    "    FigNamePath = outPath + title + '_' +  value + '_stripboxplot.svg'\n",
    "    fig.savefig(FigNamePath, bbox_inches = 'tight', facecolor='w')\n",
    "    log.write('\\n\\n===\\nStripboxplot of \"' +  title + '_' + value  + '\" was generated\\n')\n",
    "    log.write('Path: ' + FigNamePath + '\\n===')\n",
    "\n",
    "    plt.tight_layout()\n",
    "    plt.show()"
   ]
  },
  {
   "cell_type": "code",
   "execution_count": 15,
   "metadata": {},
   "outputs": [
    {
     "name": "stderr",
     "output_type": "stream",
     "text": [
      "/home/stephane/Soft/miniconda2/envs/Stats_Angle2Abaltion/lib/python3.7/site-packages/ipykernel_launcher.py:20: UserWarning: Tight layout not applied. The bottom and top margins cannot be made large enough to accommodate all axes decorations. \n"
     ]
    },
    {
     "data": {
      "image/png": "[encoded data removed]",
      "text/plain": [
       "<Figure size 432x288 with 1 Axes>"
      ]
     },
     "metadata": {
      "needs_background": "light"
     },
     "output_type": "display_data"
    }
   ],
   "source": [
    "fLogSingle = open(single_output_logFilePathName, 'a')\n",
    "makeStripBoxplot(single_data, 'Sample Number', 'Acute absolute angle to ablation', single_folder_name, fLogSingle, single_output_path)\n",
    "fLogSingle.close()"
   ]
  },
  {
   "cell_type": "code",
   "execution_count": 16,
   "metadata": {},
   "outputs": [
    {
     "data": {
      "image/png": "[encoded data removed]",
      "text/plain": [
       "<Figure size 432x288 with 1 Axes>"
      ]
     },
     "metadata": {
      "needs_background": "light"
     },
     "output_type": "display_data"
    }
   ],
   "source": [
    "fLogSingle = open(single_output_logFilePathName, 'a')\n",
    "makeStripBoxplot(single_data, 'Sample Number', 'Anisotropy', single_folder_name, fLogSingle, single_output_path)\n",
    "fLogSingle.close()"
   ]
  },
  {
   "cell_type": "markdown",
   "metadata": {},
   "source": [
    "### **1.6. Skweness**\n",
    "\"Skew: For normally distributed data, the skewness should be about zero. For unimodal continuous distributions, a skewness value greater than zero means that there is more weight in the right tail of the distribution. The function skewtest can be used to determine if the skewness value is close enough to zero, statistically speaking. If the p-value is lower than 0.05, it can be considered that the distribution is significantly skewed.\" From https://docs.scipy.org/doc/scipy/reference/generated/scipy.stats.skew.html"
   ]
  },
  {
   "cell_type": "code",
   "execution_count": 17,
   "metadata": {},
   "outputs": [],
   "source": [
    "def SkewStatistics(DataFile, value, title, log):\n",
    "    # Descriptive statistics\n",
    "    skew=stats.skew(DataFile[value])\n",
    "    statskew, pskew=stats.skewtest(DataFile[value])\n",
    "\n",
    "    # Write output to log file\n",
    "    log.write('\\n\\n===\\nSkewness statistics on \"' + value + '\" of \"' + title + '\"\\n===\\n')\n",
    "    log.write(\"skew \" + str(skew) + \"\\npvalue \" + str(pskew))\n",
    "    print (\"skew \" + str(skew) + \"\\npvalue \" + str(pskew))"
   ]
  },
  {
   "cell_type": "code",
   "execution_count": 18,
   "metadata": {},
   "outputs": [
    {
     "name": "stdout",
     "output_type": "stream",
     "text": [
      "skew 0.2500292880872099\n",
      "pvalue 0.6376122769846194\n"
     ]
    }
   ],
   "source": [
    "fLogSingle = open(single_output_logFilePathName, 'a')\n",
    "SkewStatistics(single_data, 'Acute absolute angle to ablation', single_folder_name, fLogSingle)\n",
    "fLogSingle.close()"
   ]
  },
  {
   "cell_type": "markdown",
   "metadata": {},
   "source": [
    "Done! You can take a look at the files generated in the defined output folder and proceed to the next step for comparison or timelapse analysis."
   ]
  },
  {
   "cell_type": "markdown",
   "metadata": {},
   "source": [
    "## **2. Multiple condition and time points comparisons:** \n",
    "This part of the notebook is dedicated to compare the quantifications obtained in the different conditions tested. It first runs the same descritpive staistics as in part 1 of the notebook, but does it automatically for multiple subfolders (corresponding to different condition/mutant/timepoints) in a Directory. In addition, it displays boxplots of the angles and anisotropies comparing different samples and generates inferential statistical tests to determine if there are significant difference between the compared samples.\n"
   ]
  },
  {
   "cell_type": "markdown",
   "metadata": {},
   "source": [
    "### **2.1. Load data**\n",
    "First define the path to the directory that contains all the conditions you want to compare. Below, in multiple_updir_path, as an example the pre-loaded to run the test data on binder is already defined. The \"TestData\" directory contains all the subfolder that will be analyzed. To run the analysis on your own data, change the path accordingly. Use tab to help navigation in the folders. Then don't forget to run the cell.\n",
    "\n",
    "!!! All the output will automatically be saved in the directory defined below!!!"
   ]
  },
  {
   "cell_type": "code",
   "execution_count": 19,
   "metadata": {},
   "outputs": [],
   "source": [
    "multiple_updir_path = '/home/jovyan/TestData/'"
   ]
  },
  {
   "cell_type": "markdown",
   "metadata": {},
   "source": [
    "### **2.2. Generate and save descriptive statistics**\n",
    "This large piece of code runs most of the actions performed in the first part of the notebook, but it does it automatically for all the files and subfolders in the directory defined above."
   ]
  },
  {
   "cell_type": "code",
   "execution_count": 20,
   "metadata": {},
   "outputs": [
    {
     "name": "stdout",
     "output_type": "stream",
     "text": [
      "\n",
      ">>>Condition analyzed: Test_file\n",
      "count    12.000000\n",
      "mean     41.903542\n",
      "std      19.807807\n",
      "min      13.509400\n",
      "25%      20.764100\n",
      "50%      43.875450\n",
      "75%      59.624900\n",
      "max      64.253400\n",
      "Name: Acute absolute angle to ablation, dtype: float64\n",
      "count    12.000000\n",
      "mean      0.168858\n",
      "std       0.057908\n",
      "min       0.070200\n",
      "25%       0.140050\n",
      "50%       0.155250\n",
      "75%       0.216650\n",
      "max       0.252300\n",
      "Name: Anisotropy, dtype: float64\n",
      "skew -0.3059710620476703\n",
      "pvalue 0.5649860275941583\n"
     ]
    },
    {
     "data": {
      "image/png": "[encoded data removed]",
      "text/plain": [
       "<Figure size 432x288 with 2 Axes>"
      ]
     },
     "metadata": {
      "needs_background": "light"
     },
     "output_type": "display_data"
    },
    {
     "name": "stdout",
     "output_type": "stream",
     "text": [
      "\n",
      ">>>Condition analyzed: response\n",
      "count    12.000000\n",
      "mean      9.510075\n",
      "std       5.519996\n",
      "min       0.239700\n",
      "25%       7.147775\n",
      "50%       9.366750\n",
      "75%      12.358475\n",
      "max      21.186600\n",
      "Name: Acute absolute angle to ablation, dtype: float64\n",
      "count    12.000000\n",
      "mean      0.168858\n",
      "std       0.057908\n",
      "min       0.070200\n",
      "25%       0.140050\n",
      "50%       0.155250\n",
      "75%       0.216650\n",
      "max       0.252300\n",
      "Name: Anisotropy, dtype: float64\n",
      "skew 0.2500292880872099\n",
      "pvalue 0.6376122769846194\n"
     ]
    },
    {
     "data": {
      "image/png": "[encoded data removed]",
      "text/plain": [
       "<Figure size 432x288 with 2 Axes>"
      ]
     },
     "metadata": {
      "needs_background": "light"
     },
     "output_type": "display_data"
    }
   ],
   "source": [
    "# Define log file name and path \n",
    "multiple_output_logFilePathName = str(multiple_updir_path) + 'Log_MultiComparison_Stats_Angle2ablation.txt'\n",
    "\n",
    "# generate and write in the log .txt file\n",
    "fLogMulti = open(multiple_output_logFilePathName, 'w')\n",
    "fLogMulti.write('Stats_Angle2Ablation \"Multiple comparison\" analysis\\n')\n",
    "fLogMulti.write('Folder analysed and path:\\n')\n",
    "fLogMulti.write(multiple_updir_path + '\\n')\n",
    "\n",
    "\n",
    "multi_data = pd.DataFrame(columns = ['Genotype/condition', 'Sample Number', 'CellNumber', 'FibrilTool Angle', 'Drawn Line Angle', 'Raw angle', 'Absolute angle', 'Acute absolute angle to ablation', 'Anisotropy'])\n",
    "# Find subdirectories containing the experiments/conditions to analyse\n",
    "for dirname in sorted(os.listdir(multiple_updir_path)):\n",
    "    dirpath = multiple_updir_path + dirname\n",
    "    if os.path.isdir(dirpath):\n",
    "        if \".ipynb_checkpoints\" in dirname:\n",
    "            print (\".ipynb_checkpoints folder skipped\\n\\n\")\n",
    "        else:\n",
    "            print (\"\\n>>>Condition analyzed: \" + dirname)\n",
    "            \n",
    "            # Load data\n",
    "            Result_file_name = 'All_' + dirname + '_Angle2Ablation.txt'\n",
    "            fLogMulti.write('\\n==================\\nFile analysed:\\n')\n",
    "            fLogMulti.write(Result_file_name + '\\n==================\\n')\n",
    "            data = pd.read_csv(dirpath + '/' + Result_file_name, sep = \"\\t\")\n",
    "            \n",
    "            # Descriptive statistics\n",
    "            DescriptiveStatistics(data, 'Acute absolute angle to ablation', dirname, fLogMulti)\n",
    "            DescriptiveStatistics(data, 'Anisotropy', dirname, fLogMulti)\n",
    "            \n",
    "            # Skew\n",
    "            SkewStatistics(data, 'Acute absolute angle to ablation', dirname, fLogMulti)\n",
    "            \n",
    "            # Histogram Angles\n",
    "            # plt.figure(dirname + \"angles\")\n",
    "            makeAnglesHistogram(data, 'Acute absolute angle to ablation', dirname, fLogMulti, multiple_updir_path)\n",
    "\n",
    "            # Add the current subfolder name to the list of analyzed subfolder names\n",
    "            multi_data = pd.concat([multi_data, data], ignore_index=True)\n",
    "\n",
    "fLogMulti.close()"
   ]
  },
  {
   "cell_type": "markdown",
   "metadata": {},
   "source": [
    "When running the piece of code above, we also agregate all the angles and anisotropy data form the different conditions into a new single table. Run the cell below to display new dataframe generated."
   ]
  },
  {
   "cell_type": "code",
   "execution_count": 21,
   "metadata": {},
   "outputs": [
    {
     "data": {
      "text/html": [
       "<div>\n",
       "<style scoped>\n",
       "    .dataframe tbody tr th:only-of-type {\n",
       "        vertical-align: middle;\n",
       "    }\n",
       "\n",
       "    .dataframe tbody tr th {\n",
       "        vertical-align: top;\n",
       "    }\n",
       "\n",
       "    .dataframe thead th {\n",
       "        text-align: right;\n",
       "    }\n",
       "</style>\n",
       "<table border=\"1\" class=\"dataframe\">\n",
       "  <thead>\n",
       "    <tr style=\"text-align: right;\">\n",
       "      <th></th>\n",
       "      <th>Genotype/condition</th>\n",
       "      <th>Sample Number</th>\n",
       "      <th>CellNumber</th>\n",
       "      <th>FibrilTool Angle</th>\n",
       "      <th>Drawn Line Angle</th>\n",
       "      <th>Raw angle</th>\n",
       "      <th>Absolute angle</th>\n",
       "      <th>Acute absolute angle to ablation</th>\n",
       "      <th>Anisotropy</th>\n",
       "    </tr>\n",
       "  </thead>\n",
       "  <tbody>\n",
       "    <tr>\n",
       "      <th>0</th>\n",
       "      <td>Test_file</td>\n",
       "      <td>1</td>\n",
       "      <td>1</td>\n",
       "      <td>41.9872</td>\n",
       "      <td>162.8973</td>\n",
       "      <td>-120.9101</td>\n",
       "      <td>120.9101</td>\n",
       "      <td>59.0899</td>\n",
       "      <td>0.1419</td>\n",
       "    </tr>\n",
       "    <tr>\n",
       "      <th>1</th>\n",
       "      <td>Test_file</td>\n",
       "      <td>1</td>\n",
       "      <td>2</td>\n",
       "      <td>36.0274</td>\n",
       "      <td>20.6955</td>\n",
       "      <td>15.3319</td>\n",
       "      <td>15.3319</td>\n",
       "      <td>15.3319</td>\n",
       "      <td>0.1493</td>\n",
       "    </tr>\n",
       "    <tr>\n",
       "      <th>2</th>\n",
       "      <td>Test_file</td>\n",
       "      <td>1</td>\n",
       "      <td>3</td>\n",
       "      <td>33.6901</td>\n",
       "      <td>92.8624</td>\n",
       "      <td>-59.1723</td>\n",
       "      <td>59.1723</td>\n",
       "      <td>59.1723</td>\n",
       "      <td>0.0945</td>\n",
       "    </tr>\n",
       "    <tr>\n",
       "      <th>3</th>\n",
       "      <td>Test_file</td>\n",
       "      <td>1</td>\n",
       "      <td>4</td>\n",
       "      <td>22.3801</td>\n",
       "      <td>86.6335</td>\n",
       "      <td>-64.2534</td>\n",
       "      <td>64.2534</td>\n",
       "      <td>64.2534</td>\n",
       "      <td>0.1572</td>\n",
       "    </tr>\n",
       "    <tr>\n",
       "      <th>4</th>\n",
       "      <td>Test_file</td>\n",
       "      <td>1</td>\n",
       "      <td>5</td>\n",
       "      <td>42.8789</td>\n",
       "      <td>161.8962</td>\n",
       "      <td>-119.0173</td>\n",
       "      <td>119.0173</td>\n",
       "      <td>60.9827</td>\n",
       "      <td>0.1533</td>\n",
       "    </tr>\n",
       "    <tr>\n",
       "      <th>5</th>\n",
       "      <td>Test_file</td>\n",
       "      <td>1</td>\n",
       "      <td>6</td>\n",
       "      <td>33.6901</td>\n",
       "      <td>14.0362</td>\n",
       "      <td>19.6538</td>\n",
       "      <td>19.6538</td>\n",
       "      <td>19.6538</td>\n",
       "      <td>0.0702</td>\n",
       "    </tr>\n",
       "    <tr>\n",
       "      <th>6</th>\n",
       "      <td>Test_file</td>\n",
       "      <td>2</td>\n",
       "      <td>1</td>\n",
       "      <td>28.6105</td>\n",
       "      <td>15.1011</td>\n",
       "      <td>13.5094</td>\n",
       "      <td>13.5094</td>\n",
       "      <td>13.5094</td>\n",
       "      <td>0.2459</td>\n",
       "    </tr>\n",
       "    <tr>\n",
       "      <th>7</th>\n",
       "      <td>Test_file</td>\n",
       "      <td>2</td>\n",
       "      <td>2</td>\n",
       "      <td>22.6199</td>\n",
       "      <td>162.7585</td>\n",
       "      <td>-140.1387</td>\n",
       "      <td>140.1387</td>\n",
       "      <td>39.8613</td>\n",
       "      <td>0.1345</td>\n",
       "    </tr>\n",
       "    <tr>\n",
       "      <th>8</th>\n",
       "      <td>Test_file</td>\n",
       "      <td>2</td>\n",
       "      <td>3</td>\n",
       "      <td>37.2348</td>\n",
       "      <td>80.9097</td>\n",
       "      <td>-43.6749</td>\n",
       "      <td>43.6749</td>\n",
       "      <td>43.6749</td>\n",
       "      <td>0.2523</td>\n",
       "    </tr>\n",
       "    <tr>\n",
       "      <th>9</th>\n",
       "      <td>Test_file</td>\n",
       "      <td>2</td>\n",
       "      <td>4</td>\n",
       "      <td>27.8973</td>\n",
       "      <td>90.0000</td>\n",
       "      <td>-62.1027</td>\n",
       "      <td>62.1027</td>\n",
       "      <td>62.1027</td>\n",
       "      <td>0.1834</td>\n",
       "    </tr>\n",
       "    <tr>\n",
       "      <th>10</th>\n",
       "      <td>Test_file</td>\n",
       "      <td>2</td>\n",
       "      <td>5</td>\n",
       "      <td>25.6410</td>\n",
       "      <td>161.5651</td>\n",
       "      <td>-135.9240</td>\n",
       "      <td>135.9240</td>\n",
       "      <td>44.0760</td>\n",
       "      <td>0.2114</td>\n",
       "    </tr>\n",
       "    <tr>\n",
       "      <th>11</th>\n",
       "      <td>Test_file</td>\n",
       "      <td>2</td>\n",
       "      <td>6</td>\n",
       "      <td>27.4744</td>\n",
       "      <td>6.3402</td>\n",
       "      <td>21.1342</td>\n",
       "      <td>21.1342</td>\n",
       "      <td>21.1342</td>\n",
       "      <td>0.2324</td>\n",
       "    </tr>\n",
       "    <tr>\n",
       "      <th>12</th>\n",
       "      <td>response</td>\n",
       "      <td>1</td>\n",
       "      <td>1</td>\n",
       "      <td>41.9872</td>\n",
       "      <td>29.5115</td>\n",
       "      <td>12.4757</td>\n",
       "      <td>12.4757</td>\n",
       "      <td>12.4757</td>\n",
       "      <td>0.1419</td>\n",
       "    </tr>\n",
       "    <tr>\n",
       "      <th>13</th>\n",
       "      <td>response</td>\n",
       "      <td>1</td>\n",
       "      <td>2</td>\n",
       "      <td>36.0274</td>\n",
       "      <td>29.0546</td>\n",
       "      <td>6.9728</td>\n",
       "      <td>6.9728</td>\n",
       "      <td>6.9728</td>\n",
       "      <td>0.1493</td>\n",
       "    </tr>\n",
       "    <tr>\n",
       "      <th>14</th>\n",
       "      <td>response</td>\n",
       "      <td>1</td>\n",
       "      <td>3</td>\n",
       "      <td>33.6901</td>\n",
       "      <td>21.3706</td>\n",
       "      <td>12.3194</td>\n",
       "      <td>12.3194</td>\n",
       "      <td>12.3194</td>\n",
       "      <td>0.0945</td>\n",
       "    </tr>\n",
       "    <tr>\n",
       "      <th>15</th>\n",
       "      <td>response</td>\n",
       "      <td>1</td>\n",
       "      <td>4</td>\n",
       "      <td>22.3801</td>\n",
       "      <td>1.1935</td>\n",
       "      <td>21.1866</td>\n",
       "      <td>21.1866</td>\n",
       "      <td>21.1866</td>\n",
       "      <td>0.1572</td>\n",
       "    </tr>\n",
       "    <tr>\n",
       "      <th>16</th>\n",
       "      <td>response</td>\n",
       "      <td>1</td>\n",
       "      <td>5</td>\n",
       "      <td>42.8789</td>\n",
       "      <td>29.1481</td>\n",
       "      <td>13.7308</td>\n",
       "      <td>13.7308</td>\n",
       "      <td>13.7308</td>\n",
       "      <td>0.1533</td>\n",
       "    </tr>\n",
       "    <tr>\n",
       "      <th>17</th>\n",
       "      <td>response</td>\n",
       "      <td>1</td>\n",
       "      <td>6</td>\n",
       "      <td>33.6901</td>\n",
       "      <td>35.5377</td>\n",
       "      <td>-1.8476</td>\n",
       "      <td>1.8476</td>\n",
       "      <td>1.8476</td>\n",
       "      <td>0.0702</td>\n",
       "    </tr>\n",
       "    <tr>\n",
       "      <th>18</th>\n",
       "      <td>response</td>\n",
       "      <td>2</td>\n",
       "      <td>1</td>\n",
       "      <td>28.6105</td>\n",
       "      <td>20.2249</td>\n",
       "      <td>8.3856</td>\n",
       "      <td>8.3856</td>\n",
       "      <td>8.3856</td>\n",
       "      <td>0.2459</td>\n",
       "    </tr>\n",
       "    <tr>\n",
       "      <th>19</th>\n",
       "      <td>response</td>\n",
       "      <td>2</td>\n",
       "      <td>2</td>\n",
       "      <td>22.6199</td>\n",
       "      <td>22.3801</td>\n",
       "      <td>0.2397</td>\n",
       "      <td>0.2397</td>\n",
       "      <td>0.2397</td>\n",
       "      <td>0.1345</td>\n",
       "    </tr>\n",
       "    <tr>\n",
       "      <th>20</th>\n",
       "      <td>response</td>\n",
       "      <td>2</td>\n",
       "      <td>3</td>\n",
       "      <td>37.2348</td>\n",
       "      <td>26.8869</td>\n",
       "      <td>10.3479</td>\n",
       "      <td>10.3479</td>\n",
       "      <td>10.3479</td>\n",
       "      <td>0.2523</td>\n",
       "    </tr>\n",
       "    <tr>\n",
       "      <th>21</th>\n",
       "      <td>response</td>\n",
       "      <td>2</td>\n",
       "      <td>4</td>\n",
       "      <td>27.8973</td>\n",
       "      <td>16.4769</td>\n",
       "      <td>11.4204</td>\n",
       "      <td>11.4204</td>\n",
       "      <td>11.4204</td>\n",
       "      <td>0.1834</td>\n",
       "    </tr>\n",
       "    <tr>\n",
       "      <th>22</th>\n",
       "      <td>response</td>\n",
       "      <td>2</td>\n",
       "      <td>5</td>\n",
       "      <td>25.6410</td>\n",
       "      <td>18.4349</td>\n",
       "      <td>7.2061</td>\n",
       "      <td>7.2061</td>\n",
       "      <td>7.2061</td>\n",
       "      <td>0.2114</td>\n",
       "    </tr>\n",
       "    <tr>\n",
       "      <th>23</th>\n",
       "      <td>response</td>\n",
       "      <td>2</td>\n",
       "      <td>6</td>\n",
       "      <td>27.4744</td>\n",
       "      <td>19.4861</td>\n",
       "      <td>7.9883</td>\n",
       "      <td>7.9883</td>\n",
       "      <td>7.9883</td>\n",
       "      <td>0.2324</td>\n",
       "    </tr>\n",
       "  </tbody>\n",
       "</table>\n",
       "</div>"
      ],
      "text/plain": [
       "   Genotype/condition Sample Number CellNumber  FibrilTool Angle  \\\n",
       "0           Test_file             1          1           41.9872   \n",
       "1           Test_file             1          2           36.0274   \n",
       "2           Test_file             1          3           33.6901   \n",
       "3           Test_file             1          4           22.3801   \n",
       "4           Test_file             1          5           42.8789   \n",
       "5           Test_file             1          6           33.6901   \n",
       "6           Test_file             2          1           28.6105   \n",
       "7           Test_file             2          2           22.6199   \n",
       "8           Test_file             2          3           37.2348   \n",
       "9           Test_file             2          4           27.8973   \n",
       "10          Test_file             2          5           25.6410   \n",
       "11          Test_file             2          6           27.4744   \n",
       "12           response             1          1           41.9872   \n",
       "13           response             1          2           36.0274   \n",
       "14           response             1          3           33.6901   \n",
       "15           response             1          4           22.3801   \n",
       "16           response             1          5           42.8789   \n",
       "17           response             1          6           33.6901   \n",
       "18           response             2          1           28.6105   \n",
       "19           response             2          2           22.6199   \n",
       "20           response             2          3           37.2348   \n",
       "21           response             2          4           27.8973   \n",
       "22           response             2          5           25.6410   \n",
       "23           response             2          6           27.4744   \n",
       "\n",
       "    Drawn Line Angle  Raw angle  Absolute angle  \\\n",
       "0           162.8973  -120.9101        120.9101   \n",
       "1            20.6955    15.3319         15.3319   \n",
       "2            92.8624   -59.1723         59.1723   \n",
       "3            86.6335   -64.2534         64.2534   \n",
       "4           161.8962  -119.0173        119.0173   \n",
       "5            14.0362    19.6538         19.6538   \n",
       "6            15.1011    13.5094         13.5094   \n",
       "7           162.7585  -140.1387        140.1387   \n",
       "8            80.9097   -43.6749         43.6749   \n",
       "9            90.0000   -62.1027         62.1027   \n",
       "10          161.5651  -135.9240        135.9240   \n",
       "11            6.3402    21.1342         21.1342   \n",
       "12           29.5115    12.4757         12.4757   \n",
       "13           29.0546     6.9728          6.9728   \n",
       "14           21.3706    12.3194         12.3194   \n",
       "15            1.1935    21.1866         21.1866   \n",
       "16           29.1481    13.7308         13.7308   \n",
       "17           35.5377    -1.8476          1.8476   \n",
       "18           20.2249     8.3856          8.3856   \n",
       "19           22.3801     0.2397          0.2397   \n",
       "20           26.8869    10.3479         10.3479   \n",
       "21           16.4769    11.4204         11.4204   \n",
       "22           18.4349     7.2061          7.2061   \n",
       "23           19.4861     7.9883          7.9883   \n",
       "\n",
       "    Acute absolute angle to ablation  Anisotropy  \n",
       "0                            59.0899      0.1419  \n",
       "1                            15.3319      0.1493  \n",
       "2                            59.1723      0.0945  \n",
       "3                            64.2534      0.1572  \n",
       "4                            60.9827      0.1533  \n",
       "5                            19.6538      0.0702  \n",
       "6                            13.5094      0.2459  \n",
       "7                            39.8613      0.1345  \n",
       "8                            43.6749      0.2523  \n",
       "9                            62.1027      0.1834  \n",
       "10                           44.0760      0.2114  \n",
       "11                           21.1342      0.2324  \n",
       "12                           12.4757      0.1419  \n",
       "13                            6.9728      0.1493  \n",
       "14                           12.3194      0.0945  \n",
       "15                           21.1866      0.1572  \n",
       "16                           13.7308      0.1533  \n",
       "17                            1.8476      0.0702  \n",
       "18                            8.3856      0.2459  \n",
       "19                            0.2397      0.1345  \n",
       "20                           10.3479      0.2523  \n",
       "21                           11.4204      0.1834  \n",
       "22                            7.2061      0.2114  \n",
       "23                            7.9883      0.2324  "
      ]
     },
     "execution_count": 21,
     "metadata": {},
     "output_type": "execute_result"
    }
   ],
   "source": [
    "multi_data"
   ]
  },
  {
   "cell_type": "markdown",
   "metadata": {},
   "source": [
    "Generate boxplot to compare anisotropies and angles"
   ]
  },
  {
   "cell_type": "code",
   "execution_count": 22,
   "metadata": {},
   "outputs": [
    {
     "name": "stderr",
     "output_type": "stream",
     "text": [
      "/home/stephane/Soft/miniconda2/envs/Stats_Angle2Abaltion/lib/python3.7/site-packages/ipykernel_launcher.py:20: UserWarning: Tight layout not applied. The bottom and top margins cannot be made large enough to accommodate all axes decorations. \n"
     ]
    },
    {
     "data": {
      "image/png": "[encoded data removed]",
      "text/plain": [
       "<Figure size 432x288 with 1 Axes>"
      ]
     },
     "metadata": {
      "needs_background": "light"
     },
     "output_type": "display_data"
    },
    {
     "data": {
      "image/png": "[encoded data removed]",
      "text/plain": [
       "<Figure size 432x288 with 1 Axes>"
      ]
     },
     "metadata": {
      "needs_background": "light"
     },
     "output_type": "display_data"
    }
   ],
   "source": [
    "fLogMulti = open(multiple_output_logFilePathName, 'a')\n",
    "makeStripBoxplot(multi_data, 'Genotype/condition', 'Acute absolute angle to ablation', 'Angles comparison', fLogMulti, multiple_updir_path)\n",
    "makeStripBoxplot(multi_data, 'Genotype/condition', 'Anisotropy', 'Anisotropies comparison', fLogMulti, multiple_updir_path)\n",
    "fLogMulti.close()"
   ]
  },
  {
   "cell_type": "markdown",
   "metadata": {},
   "source": [
    "### **Run statistical tests to compare CMT reorientation and anisotropy after response to ablation**"
   ]
  },
  {
   "cell_type": "markdown",
   "metadata": {},
   "source": [
    "Genotypes and conditions to compare"
   ]
  },
  {
   "cell_type": "code",
   "execution_count": 23,
   "metadata": {},
   "outputs": [
    {
     "name": "stdout",
     "output_type": "stream",
     "text": [
      "There are 2 genotype and/or condition to compare:\n",
      "['Test_file' 'response']\n"
     ]
    }
   ],
   "source": [
    "list_geno_cond = multi_data['Genotype/condition'].unique()\n",
    "print (\"There are \" + str(len(list_geno_cond)) + \" genotype and/or condition to compare:\\n\" + str(list_geno_cond))"
   ]
  },
  {
   "cell_type": "markdown",
   "metadata": {},
   "source": [
    "Running the cell below will run statistical tests for each pair of data, checking for normal distribution (Shapiro's test) and equal variance (Bartlett's test) to determine whether to run a T-test, Welch's test or a wilcoxon Wilcoxon rank sum test. \n",
    "\n",
    "Each pair of data will be tested with the most \"adapted\" test. Alternatively, in the following cell you can direcly run all the analysis with the defined test of your choice."
   ]
  },
  {
   "cell_type": "code",
   "execution_count": 24,
   "metadata": {},
   "outputs": [
    {
     "name": "stdout",
     "output_type": "stream",
     "text": [
      "\n",
      ">>>Comparison of \"Test_file\" and \"response\"\n",
      "- Shapiro's test for normality:\n",
      "Test_file Acute absolute angle to ablation population is NOT normally distributed--> p-value is 0.0464\n",
      "response Acute absolute angle to ablation population IS normally distributed --> p-value is 0.723\n",
      "At least one sample does Not have normal distibution --> Wilcoxon rank sum test\n",
      "###################################################################\n",
      "--> Acute absolute angle to ablation are significantly different --> p-value is 0.0001096207\n",
      "###################################################################\n",
      "\n",
      "- Shapiro's test for normality:\n",
      "Test_file Anisotropy population IS normally distributed --> p-value is 0.6541\n",
      "response Anisotropy population IS normally distributed --> p-value is 0.6541\n",
      "Both sample have normal distibution --> t-test or Welch's test\n",
      "\n",
      "- Bartlett's test for equal variance\n",
      "samples have equal variance--> t-test\n",
      "###################################################################\n",
      "--> Anisotropy are NOT significantly different --> p-value is 1.0\n",
      "###################################################################\n",
      "\n"
     ]
    }
   ],
   "source": [
    "fLogMulti = open(multiple_output_logFilePathName, 'a')\n",
    "\n",
    "#Loop to compare each samples\n",
    "for A in list_geno_cond:\n",
    "    result_A = np.where(list_geno_cond == A)\n",
    "    for B in list_geno_cond:\n",
    "        result_B = np.where(list_geno_cond == B)\n",
    "        if result_A[0]<result_B[0]:            \n",
    "            fLogMulti.write('\\n>>>Comparison of \"' + A + '\" and \"' + B + '\"')\n",
    "            print ('\\n>>>Comparison of \"' + A + '\" and \"' + B + '\"')\n",
    "            \n",
    "            ###Process: 'Angles' and 'Anisotropy' for each comparison\n",
    "            for col_name in ('Acute absolute angle to ablation', 'Anisotropy'):\n",
    "                data_inputA = multi_data[multi_data['Genotype/condition'] == A][col_name]\n",
    "                data_inputB = multi_data[multi_data['Genotype/condition'] == B][col_name]\n",
    "                #print (str(A) + \" -> \" + str(col_name) + \"\\n\" + str(data_inputA))\n",
    "                #print (str(B) + \" -> \" + str(col_name) + \"\\n\" + str(data_inputB))\n",
    "                \n",
    "                ###Test decision \n",
    "                ###t-test can be done if both samples populations a normally distributed and have equal variance\n",
    "                ###\n",
    "        \n",
    "                ###Shapiro's test for normality\n",
    "                ###test sample A and then samples B\n",
    "                norm = []\n",
    "                fLogMulti.write(\"\\n- Shapiro's test for normality:\")\n",
    "                print (\"- Shapiro's test for normality:\")\n",
    "                for sample, name in zip((data_inputA, data_inputB), (A, B)):\n",
    "                    w, pnorm = stats.shapiro(sample)\n",
    "                    #print (sample)\n",
    "                    if pnorm>0.05:\n",
    "                        norm.append(True)\n",
    "                        fLogMulti.write(\"\\n\" + name + \" \" + col_name + \" population IS normally distributed --> p-value is \" + str(round(pnorm, 4)))\n",
    "                        print (name + \" \" + col_name + \" population IS normally distributed --> p-value is \" + str(round(pnorm, 4)))\n",
    "                    else:\n",
    "                        norm.append(False)\n",
    "                        fLogMulti.write(\"\\n\" + name + \" \" + col_name + \" population is NOT normally distributed--> p-value is \" + str(round(pnorm, 4)))\n",
    "                        print (name + \" \" + col_name + \" population is NOT normally distributed--> p-value is \" + str(round(pnorm, 4)))\n",
    "                        \n",
    "                ### Determine \"t-test or Welchs test\" or \"wilcoxon rank sum test\"\n",
    "                if norm[0] and norm[1] is True:\n",
    "                    fLogMulti.write(\"\\nBoth sample have normal distibution --> t-test or Welch's test\\n\")\n",
    "                    print (\"Both sample have normal distibution --> t-test or Welch's test\\n\")\n",
    "            \n",
    "                    ###Bartlett's test for equal variance (to determine between t-test and Welchs test)\n",
    "                    fLogMulti.write(\"\\n- Bartlett's test for equal variance\")\n",
    "                    print (\"- Bartlett's test for equal variance\")\n",
    "                    t, pvar = stats.bartlett(data_inputA, data_inputB)\n",
    "                    if pvar>0.05:\n",
    "                        equalvar=True\n",
    "                        fLogMulti.write(\"\\nsamples have equal variance--> t-test\")\n",
    "                        print (\"samples have equal variance--> t-test\")\n",
    "                    else:\n",
    "                        equalvar=False\n",
    "                        fLogMulti.write(\"\\nsamples do not have equal variance--> Welch's test\")\n",
    "                        print (\"samples do not have equal variance--> Welch's test\")\n",
    "\n",
    "                    ###t-test (Welch's if variances are unequal)\n",
    "                    t2, pVal = stats.ttest_ind(data_inputA, data_inputB, equal_var=equalvar)\n",
    "\n",
    "                ### If at least one sample has non normal population distribution: wilcoxon rank sum test\n",
    "                else:\n",
    "                    fLogMulti.write(\"\\nAt least one sample does Not have normal distibution --> Wilcoxon rank sum test\")\n",
    "                    print (\"At least one sample does Not have normal distibution --> Wilcoxon rank sum test\")\n",
    "                    statrank, pVal = stats.ranksums(data_inputA, data_inputB)\n",
    "        \n",
    "        \n",
    "                ### Comparison test output\n",
    "                if pVal>0.05:\n",
    "                    fLogMulti.write(\"\\n###################################################################\\n--> \" + \n",
    "                                    col_name + \" are NOT significantly different --> p-value is \" + str(round(pVal,10)) +\n",
    "                                    \"\\n###################################################################\\n\")\n",
    "                    print (\"###################################################################\\n--> \" + \n",
    "                           col_name + \" are NOT significantly different --> p-value is \" + str(round(pVal,10)) +\n",
    "                           \"\\n###################################################################\\n\")\n",
    "\n",
    "                else:\n",
    "                    fLogMulti.write(\"\\n###################################################################\\n--> \" + \n",
    "                                    col_name + \" are significantly different --> p-value is \" + str(round(pVal,10)) +\n",
    "                                    \"\\n###################################################################\\n\")\n",
    "                    print (\"###################################################################\\n--> \" + \n",
    "                           col_name + \" are significantly different --> p-value is \" + str(round(pVal,10)) +\n",
    "                           \"\\n###################################################################\\n\")\n",
    "                    \n",
    "fLogMulti.close()"
   ]
  },
  {
   "cell_type": "markdown",
   "metadata": {},
   "source": [
    "In the cell below you can directly choose a single test for all the analysis.\n",
    "We recommend to use the most permissive one in this case the non parametric wilcoxon rank sum test.\n",
    "To change which test is applied, you can change the value assigned to \"test\" in the first line of the cell below."
   ]
  },
  {
   "cell_type": "code",
   "execution_count": 25,
   "metadata": {},
   "outputs": [
    {
     "name": "stdout",
     "output_type": "stream",
     "text": [
      "\n",
      ">>>Comparison of \"Test_file\" and \"response\"\n",
      "--> Wilcoxon rank sum test\n",
      "###################################################################\n",
      "--> Acute absolute angle to ablation are significantly different --> p-value is 0.0001096207\n",
      "###################################################################\n",
      "\n",
      "--> Wilcoxon rank sum test\n",
      "###################################################################\n",
      "--> Anisotropy are NOT significantly different --> p-value is 1.0\n",
      "###################################################################\n",
      "\n"
     ]
    }
   ],
   "source": [
    "test = 'Wilcoxon' # 't', 'Welch', 'Wilcoxon'\n",
    "\n",
    "fLogMulti = open(multiple_output_logFilePathName, 'a')\n",
    "\n",
    "#Loop to compare each samples\n",
    "for A in list_geno_cond:\n",
    "    result_A = np.where(list_geno_cond == A)\n",
    "    for B in list_geno_cond:\n",
    "        result_B = np.where(list_geno_cond == B)\n",
    "        if result_A[0]<result_B[0]:            \n",
    "            fLogMulti.write('\\n>>>Comparison of \"' + A + '\" and \"' + B + '\"')\n",
    "            print ('\\n>>>Comparison of \"' + A + '\" and \"' + B + '\"')\n",
    "            \n",
    "            ###Process: 'Angles' and 'Anisotropy' for each comparison\n",
    "            for col_name in ('Acute absolute angle to ablation', 'Anisotropy'):\n",
    "                data_inputA = multi_data[multi_data['Genotype/condition'] == A][col_name]\n",
    "                data_inputB = multi_data[multi_data['Genotype/condition'] == B][col_name]\n",
    "\n",
    "                if test == 't':\n",
    "                    equalvar=True\n",
    "                    fLogMulti.write(\"\\n--> t-test\")\n",
    "                    print (\"--> t-test\")\n",
    "                if test == 'Welch':\n",
    "                    equalvar=False\n",
    "                    fLogMulti.write(\"\\n--> Welch's test\")\n",
    "                    print (\"--> Welch's test\")\n",
    "\n",
    "                ###t-test (Welch's if variances are unequal)\n",
    "                t2, pVal = stats.ttest_ind(data_inputA, data_inputB, equal_var=equalvar)\n",
    "\n",
    "                ### If at least one sample has non normal population distribution: wilcoxon rank sum test\n",
    "                if test == 'Wilcoxon':\n",
    "                    fLogMulti.write(\"\\n--> Wilcoxon rank sum test\")\n",
    "                    print (\"--> Wilcoxon rank sum test\")\n",
    "                    statrank, pVal = stats.ranksums(data_inputA, data_inputB)\n",
    "        \n",
    "                ### Comparison test output\n",
    "                if pVal>0.05:\n",
    "                    fLogMulti.write(\"\\n###################################################################\\n--> \" + \n",
    "                                    col_name + \" are NOT significantly different --> p-value is \" + str(round(pVal,10)) +\n",
    "                                    \"\\n###################################################################\\n\")\n",
    "                    print (\"###################################################################\\n--> \" + \n",
    "                           col_name + \" are NOT significantly different --> p-value is \" + str(round(pVal,10)) +\n",
    "                           \"\\n###################################################################\\n\")\n",
    "\n",
    "                else:\n",
    "                    fLogMulti.write(\"\\n###################################################################\\n--> \" + \n",
    "                                    col_name + \" are significantly different --> p-value is \" + str(round(pVal,10)) +\n",
    "                                    \"\\n###################################################################\\n\")\n",
    "                    print (\"###################################################################\\n--> \" + \n",
    "                           col_name + \" are significantly different --> p-value is \" + str(round(pVal,10)) +\n",
    "                           \"\\n###################################################################\\n\")\n",
    "                    \n",
    "fLogMulti.close()"
   ]
  },
  {
   "cell_type": "code",
   "execution_count": null,
   "metadata": {},
   "outputs": [],
   "source": []
  }
 ],
 "metadata": {
  "kernelspec": {
   "display_name": "Python 3",
   "language": "python",
   "name": "python3"
  },
  "language_info": {
   "codemirror_mode": {
    "name": "ipython",
    "version": 3
   },
   "file_extension": ".py",
   "mimetype": "text/x-python",
   "name": "python",
   "nbconvert_exporter": "python",
   "pygments_lexer": "ipython3",
   "version": "3.7.9"
  }
 },
 "nbformat": 4,
 "nbformat_minor": 4
}
